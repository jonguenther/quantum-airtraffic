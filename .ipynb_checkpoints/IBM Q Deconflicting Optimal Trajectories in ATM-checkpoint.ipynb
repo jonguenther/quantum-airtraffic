{
 "cells": [
  {
   "cell_type": "markdown",
   "metadata": {},
   "source": [
    "# Airtraffic Management through Gate-Based Quantum Computing\n"
   ]
  },
  {
   "cell_type": "markdown",
   "metadata": {},
   "source": [
    "By Jonathan Günther\n",
    "\n",
    "Based on https://arxiv.org/abs/1711.04889 and https://youtu.be/yvseqXs0wKg\n",
    "\n",
    "In collaboration with [Jan Lahmann](http://twitter.com/JanLahmann), [David Mesterhazy](https://de.linkedin.com/in/david-mesterhazy-12516427), [Tobias Stollenwerk](https://www.dlr.de/sc/en/desktopdefault.aspx/tabid-1192/1635_read-29629/sortby-lastname/), and [Stefan Wörner](https://researcher.watson.ibm.com/researcher/view.php?person=zurich-wor)"
   ]
  },
  {
   "cell_type": "code",
   "execution_count": null,
   "metadata": {},
   "outputs": [],
   "source": [
    "import numpy as np\n",
    "import matplotlib.pyplot as plt\n",
    "from matplotlib.font_manager import FontProperties\n",
    "from qiskit.tools.visualization import plot_histogram\n",
    "\n",
    "from qiskit import BasicAer\n",
    "from qiskit.aqua import Operator\n",
    "from qiskit.quantum_info import Pauli\n",
    "from qiskit.aqua.components.variational_forms import RYRZ, RY\n",
    "from qiskit.aqua.components.optimizers import SPSA, COBYLA\n",
    "from qiskit.aqua.algorithms import ExactEigensolver, QAOA, VQE\n",
    "\n",
    "from random import randint\n",
    "import pprint\n",
    "pp = pprint.PrettyPrinter(indent = 4)\n",
    "\n",
    "import random\n",
    "\n",
    "import math\n",
    "\n",
    "import networkx as nx\n",
    "\n",
    "# import QUBO generator\n",
    "from create_random_instances import create_instances\n",
    "\n",
    "import itertools\n",
    "\n",
    "from qiskit import IBMQ\n",
    "from qiskit.providers.ibmq import least_busy\n",
    "\n",
    "from qiskit.aqua import run_algorithm\n",
    "from qiskit.aqua.input import EnergyInput\n",
    "\n",
    "# jupyter formatting\n",
    "# from IPython.display import Markdown, display\n",
    "# def printmd(string):\n",
    "#     display(Markdown(string))"
   ]
  },
  {
   "cell_type": "markdown",
   "metadata": {},
   "source": [
    "## Load Backends\n",
    "\n",
    "This requires to have an API key generated from https://quantum-computing.ibm.com/account"
   ]
  },
  {
   "cell_type": "code",
   "execution_count": 3,
   "metadata": {},
   "outputs": [],
   "source": [
    "# uncomment below if you run the script for the first time\n",
    "# IBMQ.save_account(\"YOUR TOKEN FROM THE LINK ABOVE\")\n",
    "\n",
    "IBMQ.load_accounts()\n",
    "\n",
    "large_backend = IBMQ.get_backend(\"ibmq_16_melbourne\")\n",
    "onlinesim = IBMQ.get_backend(\"ibmq_qasm_simulator\")\n",
    "least_busy = least_busy(IBMQ.backends(simulator = False))\n",
    "localsim = BasicAer.get_backend('qasm_simulator')"
   ]
  },
  {
   "cell_type": "markdown",
   "metadata": {},
   "source": [
    "## Defining the Problem"
   ]
  },
  {
   "cell_type": "markdown",
   "metadata": {},
   "source": [
    "Overall cost function to be solved: $D=\\sum_{i=1}^{N_f}d_i\\text{ } \\forall i \\in N_f,\\min(D)$\n",
    "\n",
    "Conflict definition:\n",
    "$B_k = [\\Delta_{k}^{\\min},\\Delta_{k}^{\\max}] \\\\ \\Delta_{k}^{min} = 1- \\Delta_t + \\min\\limits_{(s,t) \\in T_k}\\{t-s\\} \\\\ \\Delta_{k}^{max} = \\Delta_t -1 + \\max\\limits_{(s,t) \\in T_k}\\{t-s\\}$\n",
    "\n",
    "with following constraints: $d_i-d_j \\not\\in B_k \\text{ } \\forall i,j \\in N_f,\\forall k \\in N_c$"
   ]
  },
  {
   "cell_type": "markdown",
   "metadata": {},
   "source": [
    "## QUBO Definition"
   ]
  },
  {
   "cell_type": "markdown",
   "metadata": {},
   "source": [
    "### Base QUBO\n",
    "\n",
    "$f_{encoding} = \\lambda_{encoding} \\sum_{i=1}^{N_f} (\\sum_{l=0}^{N_d} d_{i,l}-1)^2$\n",
    "\n",
    "$f_{delay} = \\Delta_d \\sum_{i=1}^{N_f}\\sum_{l=0}^{N_d}ld_{i,l}$\n",
    "\n",
    "$f_{conflict} = \\lambda_{conflict} \\sum_{k} \\sum_{\\substack{l-l' | \\Delta_d (l,l') \\in B_k \\\\ i,j \\in I_k | i<j}} d_{i,l}d_{j,l'}$ \n",
    "\n",
    "$f = f_{encoding} + f_{delay} + f_{conflict}$\n",
    "\n",
    "**Issue: QUBO needs to be flattened** \n",
    "\n",
    "### Flattened QUBO\n",
    "\n",
    "$i$ and $l$ will be flattened to $m$:\n",
    "\n",
    "$m = m(i,l) = (i-1)(N_d+1)+(l+1)$\n",
    "\n",
    "$l_m = l(m) = m-1\\mod(N_d+1)$\n",
    "\n",
    "$i_m = i(m) = \\left \\lceil{\\dfrac{m}{N_d+1}}\\right \\rceil$\n",
    "\n",
    "Therefore $d_{i,l}$ will be transformed to\n",
    "\n",
    "$d_i = d_{i_m}$\n",
    "\n",
    "$d_{i_m} = l_m\\Delta_d$\n",
    "\n",
    "$d_m = \\begin{cases}\n",
    "    0, & \\text{if } d_{i_m} \\neq l_m\\Delta_d\\\\\n",
    "    1, & d_{i_m} = l_m\\Delta_d\n",
    "  \\end{cases}$\n",
    "\n",
    "### Mapping $d_m$ to Pauli $Z_m$\n",
    "\n",
    "$d_m = \\dfrac{1}{2}(1-Z_m) \\text{ with }  Z_m = \\begin{cases}\n",
    "    -1, & \\text{if } d_m = 1\\\\\n",
    "    +1, & d_m = 0\n",
    "  \\end{cases}$\n",
    "  \n",
    "### - $f_{encoding}$ -\n",
    "$f_{encoding} = \\sum_{m,n=1}^N(d_m-\\dfrac{N_f}{N})\\delta_{i_m,j_n}(d_{n}-\\dfrac{N_f}{N}) \\text{ with } \\delta_{i,j} = \\begin{cases}\n",
    "    0, & \\text{if } i\\neq j\\\\\n",
    "    1, & i=j\n",
    "  \\end{cases}$\n",
    "  \n",
    "$f_{encoding} =   \\sum_{m,n=1}^N \\delta_{i_m,j_n}(\\dfrac{1}{2}(1-Z_m)-\\dfrac{N_f}{N})(\\dfrac{1}{2}(1-Z_n)-\\dfrac{N_f}{N})$\n",
    "\n",
    "$f_{encoding} =   \\sum_{m,n=1}^N \\delta_{i_m,j_n}\\dfrac{1}{4}(1-Z_m-\\dfrac{2 N_f}{N})(1-Z_n-\\dfrac{2 N_f}{N})$\n",
    "\n",
    "$f_{encoding} =   \\sum_{m,n=1}^N \\delta_{i_m,j_n}\\dfrac{1}{4}(c-Z_m)(c-Z_n)$\n",
    "\n",
    "$f_{encoding} =   \\dfrac{1}{4}\\sum_{m,n=1}^N \\delta_{i_m,j_n}(c^2-cZ_m-cZ_n+Z_mZ_n)$\n",
    "\n",
    "with $ c = 1-\\dfrac{2 N_f}{N}$\n",
    "\n",
    "$f_{encoding} =   \\dfrac{1}{4}\\sum_{m,n=1}^N \\delta_{i_m,j_n}(\\left(1-\\dfrac{2 N_f}{N}\\right)^2-\\left(1-\\dfrac{2 N_f}{N}\\right)Z_m-\\left(1-\\dfrac{2 N_f}{N}\\right)Z_n+Z_mZ_n)$\n",
    "\n",
    "### - $f_{deleay}$ -\n",
    "\n",
    "$f_{delay} = \\dfrac{1}{d_{\\max}}\\sum_{m=1}^Nl_md_m$\n",
    "\n",
    "$f_{delay} = \\dfrac{1}{2 d_{\\max}}\\sum_{m=1}^Nl_m(1-Z_m)$\n",
    "\n",
    "$f_{delay} = \\dfrac{1}{2 d_{\\max}}\\sum_{m=1}^Nl_m - \\dfrac{1}{2 d_{\\max}}\\sum_{m=1}^Nl_mZ_m$\n",
    "\n",
    "### - $f_{conflict}$ -\n",
    "\n",
    "$f_{conflict} = \\sum_k\\sum_{m,n=1}^N(d_md_n\\delta_{(l_m-l_n)\\Delta_d\\in B_k}\\delta_{i_m\\in I_k}\\delta_{j_n\\in I_k}\\delta_{i_m<j_b}) = \\sum_k\\sum_{m,n=1}^N\\dfrac{1}{4}\\left((Z_mZ_n-Z_m-Z_n+1)\\delta_{(l_m-l_n)\\Delta_d\\in B_k}\\delta_{i_m\\in I_k}\\delta_{j_n\\in I_k}\\delta_{i_m<j_n}\\right)$\n",
    "\n",
    "$\\text{ with } \\delta_{(l_m-l_n)\\Delta_d\\in B_k} = \\begin{cases}\n",
    "    0, & \\text{if } (l_m-l_n)\\Delta_d\\not\\in B_k\\\\\n",
    "    1, & (l_m-l_n)\\Delta_d\\in B_k\n",
    "  \\end{cases}$\n",
    "  \n",
    "$\\text{ with } \\delta_{i_m\\in I_k} = \\begin{cases}\n",
    "    0, & \\text{if } i_m\\not\\in I_k\\\\\n",
    "    1, & i_m\\in I_k\n",
    "  \\end{cases}$\n",
    "  \n",
    "$\\text{ with } \\delta_{i_n\\in I_k} = \\begin{cases}\n",
    "    0, & \\text{if } i_n\\not\\in I_k\\\\\n",
    "    1, & i_n\\in I_k\n",
    "  \\end{cases}$\n",
    "\n",
    "$\\text{ with } \\delta_{i_m<j_b} = \\begin{cases}\n",
    "    0, & \\text{if } i_m>=j_b\\\\\n",
    "    1, & i_m<j_b\n",
    "  \\end{cases}$\n",
    "\n",
    "### Final QUBO with mapped Pauli Z Operator\n",
    "\n",
    "$f_{encoding} =   \\dfrac{1}{4}\\sum_{m,n=1}^N \\delta_{i_m,j_n}(\\text{const}-\\left(1-\\dfrac{2 N_f}{N}\\right)Z_m-\\left(1-\\dfrac{2 N_f}{N}\\right)Z_n+Z_mZ_n)$\n",
    "\n",
    "$f_{delay} = \\text{const} - \\dfrac{1}{2 d_{\\max}}\\sum_{m=1}^Nl_mZ_m$\n",
    "\n",
    "$f_{conflict}=\\sum_k\\sum_{m,n=1}^N\\dfrac{1}{4}\\left((Z_mZ_n-Z_m-Z_n+const)\\delta_{(l_m-l_n)\\Delta_d\\in B_k}\\delta_{i_m\\in I_k}\\delta_{j_n\\in I_k}\\delta_{i_m<j_n}\\right)$"
   ]
  },
  {
   "cell_type": "markdown",
   "metadata": {},
   "source": [
    "## Final Ising Hamiltonian"
   ]
  },
  {
   "cell_type": "markdown",
   "metadata": {},
   "source": [
    "Generelle Form: $\\hat{\\mathcal H}_b = \\sum_{i,j=1}^{N}J_{i,j}\\hat{Z}_i\\hat{Z}_j + \\sum_{i}^Nh_i\\hat{Z}_i$\n",
    "\n",
    "**Einsetzen des Qubo:**\n",
    "\n",
    "$J_{m,n} = \\dfrac{1}{4}\\delta_{i_m,j_n} + \\dfrac{1}{4}\\delta_{i_m\\in I_k}\\delta_{j_n\\in I_k}\\delta_{i_m<j_n}$\n",
    "\n",
    "$h_m = -\\dfrac{1}{4}\\sum_n\\left(\\left(1-\\dfrac{2N_f}{N}\\right)(\\delta_{i_m,j_n}+\\delta_{i_m,j_n})+ \\sum_k\\left(\\delta_{i_m\\in I_k}\\delta_{j_n\\in I_k}\\delta_{i_m<j_j} + \\delta_{i_n\\in I_k}\\delta_{j_m\\in I_k}\\delta_{i_m<j_n}\\right)\\right)-\\dfrac{1}{2d_{\\max}}l_m$"
   ]
  },
  {
   "cell_type": "markdown",
   "metadata": {},
   "source": [
    "## Setting the Constants"
   ]
  },
  {
   "cell_type": "code",
   "execution_count": 6,
   "metadata": {},
   "outputs": [],
   "source": [
    "# set number of available qubits\n",
    "nbr_qubits = 6\n",
    "\n",
    "# define departure max delay, departure delay resolution\n",
    "delta_d = 1 # delay resolution\n",
    "N_d = 2 # maximum delay steps\n",
    "dmax = delta_d * N_d\n",
    "a = [l*delta_d for l in range(N_d+1)]\n",
    "\n",
    "# calculate max calculatable flights using given number of qubits\n",
    "N_f = int(nbr_qubits / (N_d + 1))\n",
    "\n",
    "# setting N, a helper variable for m\n",
    "N = (N_d + 1) * N_f\n",
    "\n",
    "# set danger zones if planes come too close to each other\n",
    "delta_t = 3 #minutes\n",
    "delta_x = 30 #miles\n",
    "\n",
    "# setting the penalty weights\n",
    "lambda_encoding = 12\n",
    "lambda_conflict = 12"
   ]
  },
  {
   "cell_type": "markdown",
   "metadata": {},
   "source": [
    "## Generating Test Data\n",
    "Using a script based on the conflict generator script by Tobias Stollenwerk"
   ]
  },
  {
   "cell_type": "code",
   "execution_count": 7,
   "metadata": {},
   "outputs": [],
   "source": [
    "# small test instances with known solutions\n",
    "instances = [{\"conflicts\":[(1,2)],\"timeLimits\":[(-1,2)]}]"
   ]
  },
  {
   "cell_type": "code",
   "execution_count": 86,
   "metadata": {},
   "outputs": [
    {
     "name": "stdout",
     "output_type": "stream",
     "text": [
      "Calculate 1 instances\n",
      "[   {   'conflicts': [(2, 3)],\n",
      "        'delays': [0, 1, 2],\n",
      "        'flights': [1, 2, 3],\n",
      "        'timeLimits': [(0, 1)]}]\n"
     ]
    }
   ],
   "source": [
    "# instance generation\n",
    "instances = create_instances(Fmin=N_f,Fmax=N_f,Dmax=dmax,Dmin=dmax,dmin=delta_d,dmax=delta_d,repetitions=1,Tmin=dmax+delta_d,Tmax=dmax+delta_d,tmin=delta_d,tmax=delta_d)\n",
    "pp.pprint(instances)"
   ]
  },
  {
   "cell_type": "code",
   "execution_count": 8,
   "metadata": {},
   "outputs": [],
   "source": [
    "# assign instance to variable Ik\n",
    "Ik = {instances[0][\"conflicts\"][index]:(bk[0],bk[1]) for index,bk in enumerate(instances[0][\"timeLimits\"])}\n",
    "# check if defined instance is valid\n",
    "for el,bk in Ik.items():\n",
    "    if el[0] > N_f or el[1] > N_f or el[0] > el[1]:\n",
    "        print(\"Invalid conflict pair:\",el)\n",
    "    elif (bk[0] >= dmax and bk[1] <= -1*dmax) or (bk[1] >= dmax and bk[0] <= -1*dmax) or bk == (0,0) or bk[0] > bk[1]:\n",
    "        print(\"Invalid Bk:\",bk,\"for conflict pair\", el)"
   ]
  },
  {
   "cell_type": "markdown",
   "metadata": {},
   "source": [
    "### Visualizing the Problem Instance"
   ]
  },
  {
   "cell_type": "code",
   "execution_count": 9,
   "metadata": {},
   "outputs": [
    {
     "name": "stderr",
     "output_type": "stream",
     "text": [
      "C:\\Users\\IBM_ADMIN\\Anaconda3\\envs\\Qiskitenv\\lib\\site-packages\\networkx\\drawing\\nx_pylab.py:611: MatplotlibDeprecationWarning: isinstance(..., numbers.Number)\n",
      "  if cb.is_numlike(alpha):\n"
     ]
    },
    {
     "data": {
      "image/png": "[encoded data removed]",
      "text/plain": [
       "<Figure size 432x288 with 1 Axes>"
      ]
     },
     "metadata": {},
     "output_type": "display_data"
    }
   ],
   "source": [
    "G=nx.Graph()\n",
    "G.add_nodes_from(range(1,N_f))\n",
    "G.add_edges_from([el for el,bk in Ik.items()])\n",
    "pos = nx.spring_layout(G,k=0.65,iterations=20)\n",
    "nx.draw(G,pos,edge_color='black',width=1,linewidths=1,\\\n",
    "node_size=500,node_color='darkblue',alpha=0.7,\\\n",
    "labels={node:node for node in G.nodes()},font_color=\"white\")\n",
    "nx.draw_networkx_edge_labels(G,pos,edge_labels={el:\"kmin: \"+str(bk[0])+\",\\nkmax: \"+str(bk[1]) for el,bk in Ik.items()},font_color='red')\n",
    "plt.axis('off')\n",
    "plt.show()"
   ]
  },
  {
   "cell_type": "markdown",
   "metadata": {},
   "source": [
    "## Ising Function\n",
    "By [David Mesterhazy](https://de.linkedin.com/in/david-mesterhazy-12516427)"
   ]
  },
  {
   "cell_type": "code",
   "execution_count": 11,
   "metadata": {},
   "outputs": [],
   "source": [
    "def ising(nbr_qubits : int, J : dict, h : dict) -> tuple:\n",
    "    pauli_string = []\n",
    "    op = {'I' : [0, 0], 'X' : [0, 1], 'Y' : [1, 1], 'Z' : [1, 0]}\n",
    "\n",
    "    for (i, j), Jv in J.items():\n",
    "        assert np.mod(i-j, nbr_qubits) != 0, 'indices cannot be equal'.format(i, j)\n",
    "        # intialize classical bit string that defines tensor product operator of NN term\n",
    "        config = np.zeros((nbr_qubits,2))\n",
    "        # following two lines defines NN term\n",
    "        config[np.mod(i-1, nbr_qubits), :] = op['Z']\n",
    "        config[np.mod(j-1, nbr_qubits), :] = op['Z']\n",
    "        # append classical bit string to pauli_list with corresponding coefficents, here: J and h\n",
    "        pauli_string.append((Jv, Pauli(np.array(config)[:,0], np.array(config)[:,1])))\n",
    "        \n",
    "    for i, hv in h.items():\n",
    "        # intialize classical bit string that defines tensor product operator of NN term\n",
    "        config = np.zeros((nbr_qubits,2)) # 2 -> anzahl der variablen (zeile,spalte)\n",
    "        # following two lines defines NN term\n",
    "        config[np.mod(i-1, nbr_qubits), :] = op['Z'] # setz zeile i op[z]\n",
    "        # append classical bit string to pauli_list with corresponding coefficents, here: J and h\n",
    "        pauli_string.append((hv, Pauli(np.array(config)[:,0], np.array(config)[:,1])))\n",
    "    \n",
    "    return pauli_string"
   ]
  },
  {
   "cell_type": "markdown",
   "metadata": {},
   "source": [
    "## Realization of the Ising"
   ]
  },
  {
   "cell_type": "markdown",
   "metadata": {},
   "source": [
    "$\\hat{\\mathcal H}_b = \\sum_{i,j=1}^{N}J_{i,j}\\hat{Z}_i\\hat{Z}_j + \\sum_{i}^Nh_i\\hat{Z}_i$\n"
   ]
  },
  {
   "cell_type": "markdown",
   "metadata": {},
   "source": [
    "### Defining Helper Functions"
   ]
  },
  {
   "cell_type": "code",
   "execution_count": 12,
   "metadata": {},
   "outputs": [],
   "source": [
    "# helper functions to assign i(m) and l(m)\n",
    "l = lambda alpha: int(np.mod(alpha-1, N_d+1))\n",
    "i = lambda alpha: int(np.ceil(alpha / (N_d+1)))\n",
    "\n",
    "delta = lambda x, y: 1 if x == y else 0\n",
    "\n",
    "def in_range(x, list_vals):\n",
    "    assert len(list_vals) > 1, \"Need at least one element to compare against\"\n",
    "    return min(list_vals) <= x <= max(list_vals)"
   ]
  },
  {
   "cell_type": "markdown",
   "metadata": {},
   "source": [
    "### Creating the magnet field h"
   ]
  },
  {
   "cell_type": "markdown",
   "metadata": {},
   "source": [
    "$h_i = -\\dfrac{1}{4}\\sum_j\\left(\\left(1-\\dfrac{2N_f}{N}\\right)(\\delta_{i_i,j_j}+\\delta_{i_j,j_i})+ \\sum_k\\left(\\delta_{i_i\\in I_k}\\delta_{j_j\\in I_k}\\delta_{i_i<j_j} + \\delta_{i_j\\in I_k}\\delta_{j_i\\in I_k}\\delta_{i_j<j_i}\\right)\\right)-\\dfrac{1}{2d_{\\max}}l_i$"
   ]
  },
  {
   "cell_type": "code",
   "execution_count": 13,
   "metadata": {},
   "outputs": [
    {
     "name": "stdout",
     "output_type": "stream",
     "text": [
      "{1: -12.0, 2: -15.5, 3: -16.0, 4: -15.0, 5: -15.5, 6: -13.0}\n"
     ]
    }
   ],
   "source": [
    "# partial magnet fields\n",
    "h_delay = { alpha : -1/2 * delta_d * l(alpha) for alpha in range(1, N+1) }\n",
    "h_encoding = { alpha : 2 * lambda_encoding * \n",
    "              sum([-1/4 * (1 - 2 * N_f / N ) * delta(i(alpha), i(beta)) for beta in range(1, N+1)])\n",
    "              for alpha in range(1, N+1) }\n",
    "h_conflict = { alpha : lambda_conflict * (-1/4 * sum([1 \n",
    "                                                     for beta in range(1, N+1)\n",
    "                                                     for k in range(len(Ik))\n",
    "                                                     if ((i(alpha) < i(beta)) and\n",
    "                                                     (True if i(alpha) in list(Ik.keys())[k] else False) and\n",
    "                                                     (True if i(beta) in list(Ik.keys())[k] else False) and\n",
    "                                                     in_range((l(alpha) - l(beta)) * delta_d, list(Ik.values())[k]))]) +\n",
    "                                          -1/4 * sum([1\n",
    "                                                     for beta in range(1, N+1)\n",
    "                                                     for k in range(len(Ik)) \n",
    "                                                     if ((i(beta) < i(alpha)) and\n",
    "                                                     (True if i(alpha) in list(Ik.keys())[k] else False) and\n",
    "                                                     (True if i(beta) in list(Ik.keys())[k] else False) and\n",
    "                                                     in_range((l(beta) - l(alpha)) * delta_d, list(Ik.values())[k]))]))\n",
    "              for alpha in range(1, N+1) }\n",
    "\n",
    "# fuse magnet fields\n",
    "h = { alpha : h_delay[alpha] + \n",
    "              h_encoding[alpha] + \n",
    "              h_conflict[alpha] for alpha in range(1, N+1) }\n",
    "h = { k:v for k,v in h.items() if v != 0 }\n",
    "pp.pprint(h)"
   ]
  },
  {
   "cell_type": "markdown",
   "metadata": {},
   "source": [
    "### Creating the Couplings J"
   ]
  },
  {
   "cell_type": "markdown",
   "metadata": {},
   "source": [
    "$J_{i,j} = \\dfrac{1}{4}\\delta_{i_m,j_n} + \\dfrac{1}{4}\\delta_{i_m\\in I_k}\\delta_{j_n\\in I_k}\\delta_{i_m<j_n}$"
   ]
  },
  {
   "cell_type": "code",
   "execution_count": 15,
   "metadata": {},
   "outputs": [
    {
     "name": "stdout",
     "output_type": "stream",
     "text": [
      "{   (1, 2): 6.0,\n",
      "    (1, 3): 6.0,\n",
      "    (1, 4): 3.0,\n",
      "    (1, 5): 3.0,\n",
      "    (2, 3): 6.0,\n",
      "    (2, 4): 3.0,\n",
      "    (2, 5): 3.0,\n",
      "    (2, 6): 3.0,\n",
      "    (3, 4): 3.0,\n",
      "    (3, 5): 3.0,\n",
      "    (3, 6): 3.0,\n",
      "    (4, 5): 6.0,\n",
      "    (4, 6): 6.0,\n",
      "    (5, 6): 6.0}\n"
     ]
    }
   ],
   "source": [
    "# partial couplings\n",
    "J_delay = {}\n",
    "J_encoding = { (alpha, beta) : 2 * 1/4 * lambda_encoding * delta(i(alpha), i(beta))\n",
    "             for alpha in range(1, N+1)\n",
    "             for beta in range(1, N+1) \n",
    "             if alpha < beta}\n",
    "J_conflict = { (alpha, beta) : 1/4 * lambda_conflict * (sum([1 for k in range(len(Ik)) \n",
    "                                                            if (i(alpha) < i(beta)) and\n",
    "                                                            (True if i(alpha) in list(Ik.keys())[k] else False) and\n",
    "                                                            (True if i(beta) in list(Ik.keys())[k] else False) and\n",
    "                                                            (in_range((l(alpha) - l(beta)) * delta_d, list(Ik.values())[k]))]))\n",
    "             for alpha in range(1, N+1)\n",
    "             for beta in range(1, N+1) \n",
    "             if alpha != beta }\n",
    "\n",
    "# fusing the partial couplings\n",
    "J = { (alpha, beta) : (J_delay[(alpha, beta)] if (alpha, beta) in J_delay.keys() else 0) + \n",
    "                      (J_encoding[(alpha, beta)] if (alpha, beta) in J_encoding.keys() else 0) +\n",
    "                      (J_conflict[(alpha, beta)] if (alpha, beta) in J_conflict.keys() else 0)\n",
    "     for alpha in range(1, N+1)\n",
    "     for beta in range(1, N+1)\n",
    "    }\n",
    "J = { k:v for k,v in J.items() if v != 0 }\n",
    "pp.pprint(J)"
   ]
  },
  {
   "cell_type": "markdown",
   "metadata": {},
   "source": [
    "### Creating the Hamiltonian and preparing it for Qiskit algorithms"
   ]
  },
  {
   "cell_type": "code",
   "execution_count": 16,
   "metadata": {},
   "outputs": [],
   "source": [
    "ham = ising(J = J, h = h, nbr_qubits = nbr_qubits)\n",
    "# pp.pprint(ham)\n",
    "# builtin qiskit function\n",
    "op = Operator(ham)"
   ]
  },
  {
   "cell_type": "markdown",
   "metadata": {},
   "source": [
    "### Calculate the solution using a classical eigensolver"
   ]
  },
  {
   "cell_type": "code",
   "execution_count": 17,
   "metadata": {
    "scrolled": false
   },
   "outputs": [
    {
     "name": "stdout",
     "output_type": "stream",
     "text": [
      "--constants:--\n",
      "N_f: 2\n",
      "N_d: 2\n",
      "N: 6\n",
      "qubits:  6\n",
      "dmax: 2\n",
      "delta_d: 1\n",
      "\n",
      "--conflicts:--\n",
      "flights:  (1, 2) Bk: (-1, 2)\n",
      "\n",
      "--ee solution: 100001 (position 34)--\n",
      "flight: 1 | delay: 0 | m = 1 \n",
      "flight: 2 | delay: 2 | m = 6 \n",
      "\n",
      "\n",
      "--raw output of ee solver--\n",
      "{   'eigvals': array([-49.]),\n",
      "    'eigvecs': array([[0., 0., 0., 0., 0., 0., 0., 0., 0., 0., 0., 0., 0., 0., 0., 0.,\n",
      "        0., 0., 0., 0., 0., 0., 0., 0., 0., 0., 0., 0., 0., 0., 0., 0.,\n",
      "        0., 1., 0., 0., 0., 0., 0., 0., 0., 0., 0., 0., 0., 0., 0., 0.,\n",
      "        0., 0., 0., 0., 0., 0., 0., 0., 0., 0., 0., 0., 0., 0., 0., 0.]]),\n",
      "    'energies': array([-49.]),\n",
      "    'energy': -49.0,\n",
      "    'wavefunction': array([[0., 0., 0., 0., 0., 0., 0., 0., 0., 0., 0., 0., 0., 0., 0., 0.,\n",
      "        0., 0., 0., 0., 0., 0., 0., 0., 0., 0., 0., 0., 0., 0., 0., 0.,\n",
      "        0., 1., 0., 0., 0., 0., 0., 0., 0., 0., 0., 0., 0., 0., 0., 0.,\n",
      "        0., 0., 0., 0., 0., 0., 0., 0., 0., 0., 0., 0., 0., 0., 0., 0.]])}\n"
     ]
    }
   ],
   "source": [
    "# ee solver\n",
    "eig = ExactEigensolver(op)\n",
    "result = eig.run()\n",
    "output = {}\n",
    "\n",
    "# debugging\n",
    "print(\"--constants:--\")\n",
    "print(\"N_f:\", N_f)\n",
    "print(\"N_d:\", N_d)\n",
    "print(\"N:\", N)\n",
    "print(\"qubits: \", nbr_qubits)\n",
    "print(\"dmax:\", dmax)\n",
    "print(\"delta_d:\", delta_d)\n",
    "\n",
    "print(\"\")\n",
    "\n",
    "print(\"--conflicts:--\")\n",
    "for item,bk in Ik.items():\n",
    "    print(\"flights: \", item, \"Bk:\", bk)\n",
    "print(\"\")\n",
    "\n",
    "ee = np.where(result[\"eigvecs\"][0] == 1)\n",
    "m =ee[0][0] +1\n",
    "bit = \"{0:b}\".format(ee[0][0])\n",
    "for item in range(nbr_qubits - len(bit)):\n",
    "    bit = \"0\" + bit\n",
    "print(\"--ee solution: \" + bit + \" (position \" + str(m) + \")--\")\n",
    "\n",
    "for index,m in enumerate(bit[::-1]):\n",
    "    alpha = index+1\n",
    "    if m == \"1\":\n",
    "        print(\"flight:\",int(i(alpha)),\"| delay:\",l(alpha)*delta_d,\"| m =\",alpha,['',\" --> ERROR\"][int(i(alpha)) in output])\n",
    "        output[int(i(alpha))] = l(alpha)*delta_d\n",
    "print(\"\")\n",
    "\n",
    "for item,bk in Ik.items():\n",
    "    if bk[0] <= output[item[0]]-output[item[1]] <= bk[1]:\n",
    "        print(\"solultion for\",item, \"(di-dj:\",output[item[0]]-output[item[1]],\") is conflicting: element in bk:\",bk[0],\"<=\",output[item[0]]-output[item[1]],\"<=\",bk[1])\n",
    "\n",
    "print(\"\")\n",
    "\n",
    "print(\"--raw output of ee solver--\")\n",
    "pp.pprint(result)\n",
    "\n",
    "# visualize m\n",
    "# n = 1 \n",
    "# a = np.zeros(shape=(N_f,N_d+1))\n",
    "# for index,row in enumerate(a):\n",
    "#     for s in range(0,len(a[index])):\n",
    "#         a[index][s] = n\n",
    "#         n += 1\n",
    "\n",
    "# plt.figure(figsize=(5,5))\n",
    "# plt.title(\"m Matrix\")\n",
    "# tb = plt.table(cellText=a, loc=(0,0), cellLoc='center',colLabels=[n for n in range(0,delta_d,N_d)],rowLabels=[n for n in range(1,N_f+1)])\n",
    "\n",
    "# tc = tb.properties()['child_artists']\n",
    "# for cell in tc: \n",
    "#     cell.set_height(.4/N_f)\n",
    "#     cell.set_width(.4/N_d)\n",
    "\n",
    "# for cell in tc:\n",
    "#     print(cell)\n",
    "    \n",
    "# for (row,col), cell in tb.get_celld().items():\n",
    "#     if (row == 0) or (col == -1):\n",
    "#         cell.set_linewidth(0)\n",
    "#         cell.set_text_props(fontproperties=FontProperties(weight='bold'))\n",
    "\n",
    "# ax = plt.gca()\n",
    "# ax.set_xticks([])\n",
    "# ax.set_yticks([])\n",
    "# # ax.axis('off')\n",
    "\n",
    "# ax.spines[\"top\"].set_visible(False)\n",
    "# ax.spines[\"right\"].set_visible(False)\n",
    "# ax.spines[\"left\"].set_visible(False)\n",
    "# ax.spines[\"bottom\"].set_visible(False)\n",
    "\n",
    "# plt.ylabel('flights i')\n",
    "# plt.xlabel('delay step d')\n"
   ]
  },
  {
   "cell_type": "markdown",
   "metadata": {},
   "source": [
    "### Calculate the solution using given quantum algorithm on IBM Q"
   ]
  },
  {
   "cell_type": "code",
   "execution_count": 18,
   "metadata": {
    "scrolled": false
   },
   "outputs": [],
   "source": [
    "# TODO: Optimize Algorithms\n",
    "\n",
    "# comment if you do not want to use VQE\n",
    "optimizer = SPSA(max_trials=500)\n",
    "q = VQE(op, optimizer = optimizer, var_form = RYRZ(nbr_qubits), operator_mode = 'paulis')\n",
    "\n",
    "# the algorithm below is faster but may not be accurate for sizes > 4 qubit in its current state\n",
    "# optimizer = COBYLA(maxiter = 100)\n",
    "# q = VQE(op, optimizer = optimizer, var_form = RYRZ(nbr_qubits), operator_mode = 'paulis')\n",
    "\n",
    "# uncomment if you want to use QAOA instead\n",
    "# optimizer = COBYLA(maxiter = 10)\n",
    "# depth = 2\n",
    "# q = QAOA(op, optimizer, p = depth, operator_mode = 'paulis')\n",
    "\n",
    "# calculate the problem\n",
    "results = q.run(localsim) # options: localsim,onlinesim,largebackend,least_busy\n",
    "\n",
    "# Sometimes results are not correct and it may needs to calculate the problem several times\n",
    "# iterations = 10 # change this for how often the problem is calculated\n",
    "# result_collection = []\n",
    "# highest = []\n",
    "# result_collection = {}\n",
    "# for n in range(iterations):\n",
    "#     print(n+1,\". calculation\")\n",
    "#     results = q.run(localsim) # options: localsim,onlinesim,largebackend,least_busy\n",
    "#     result_collection[n+1] = results\n",
    "#     highest.append(max(results[\"eigvecs\"][0].keys(), key=(lambda key: results[\"eigvecs\"][0][key])))\n",
    "\n",
    "# print(\"- done -\")"
   ]
  },
  {
   "cell_type": "markdown",
   "metadata": {},
   "source": [
    "### Plot the Results"
   ]
  },
  {
   "cell_type": "code",
   "execution_count": 21,
   "metadata": {
    "scrolled": true
   },
   "outputs": [
    {
     "data": {
      "image/png": "[encoded data removed]",
      "text/plain": [
       "<Figure size 1296x360 with 1 Axes>"
      ]
     },
     "execution_count": 21,
     "metadata": {},
     "output_type": "execute_result"
    }
   ],
   "source": [
    "# Plot the results for a single calculation\n",
    "plot_histogram(results['eigvecs'], figsize = (18,5))\n",
    "\n",
    "# # Plot the results for multiple calculations\n",
    "# chart = {}\n",
    "# for n in highest:\n",
    "#     if not n in chart:\n",
    "#         chart[n] = 0\n",
    "#     chart[n] += 1\n",
    "# plot_histogram(chart, figsize = (18,5),title=\"Most likely result after \"+str(iterations)+\" calculations\")\n",
    "# # pp.pprint(result_collection)"
   ]
  }
 ],
 "metadata": {
  "kernelspec": {
   "display_name": "Python 3 (Qiskitenv)",
   "language": "python",
   "name": "qiskitenv"
  },
  "language_info": {
   "codemirror_mode": {
    "name": "ipython",
    "version": 3
   },
   "file_extension": ".py",
   "mimetype": "text/x-python",
   "name": "python",
   "nbconvert_exporter": "python",
   "pygments_lexer": "ipython3",
   "version": "3.7.3"
  }
 },
 "nbformat": 4,
 "nbformat_minor": 2
}
