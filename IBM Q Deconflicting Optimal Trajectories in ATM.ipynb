{
 "cells": [
  {
   "cell_type": "markdown",
   "metadata": {},
   "source": [
    "# Airtraffic Management through Gate-Based Quantum Computing\n"
   ]
  },
  {
   "cell_type": "markdown",
   "metadata": {},
   "source": [
    "By Jonathan Günther\n",
    "\n",
    "Based on https://arxiv.org/abs/1711.04889 and https://youtu.be/yvseqXs0wKg\n",
    "\n",
    "In collaboration with [Jan Lahmann](http://twitter.com/JanLahmann), [David Mesterhazy](https://de.linkedin.com/in/david-mesterhazy-12516427), [Tobias Stollenwerk](https://www.dlr.de/sc/en/desktopdefault.aspx/tabid-1192/1635_read-29629/sortby-lastname/), and [Stefan Wörner](https://researcher.watson.ibm.com/researcher/view.php?person=zurich-wor)"
   ]
  },
  {
   "cell_type": "code",
   "execution_count": 19,
   "metadata": {},
   "outputs": [],
   "source": [
    "import numpy as np\n",
    "import matplotlib.pyplot as plt\n",
    "from matplotlib.font_manager import FontProperties\n",
    "from qiskit.tools.visualization import plot_histogram\n",
    "\n",
    "from qiskit import BasicAer\n",
    "from qiskit.aqua.operators import WeightedPauliOperator as Operator\n",
    "from qiskit.quantum_info import Pauli\n",
    "from qiskit.aqua.components.variational_forms import RYRZ, RY\n",
    "from qiskit.aqua.components.optimizers import SPSA, COBYLA\n",
    "from qiskit.aqua.algorithms import ExactEigensolver, QAOA, VQE\n",
    "\n",
    "from random import randint\n",
    "import pprint\n",
    "pp = pprint.PrettyPrinter(indent = 4)\n",
    "\n",
    "import random\n",
    "\n",
    "import math\n",
    "\n",
    "import networkx as nx\n",
    "\n",
    "# import QUBO generator\n",
    "from create_random_instances import create_instances\n",
    "\n",
    "import itertools\n",
    "\n",
    "from qiskit import IBMQ\n",
    "from qiskit.providers.ibmq import least_busy\n",
    "\n",
    "from qiskit.aqua import run_algorithm\n",
    "from qiskit.aqua.input import EnergyInput\n",
    "\n",
    "# jupyter formatting\n",
    "# from IPython.display import Markdown, display\n",
    "# def printmd(string):\n",
    "#     display(Markdown(string))"
   ]
  },
  {
   "cell_type": "markdown",
   "metadata": {},
   "source": [
    "## Load Backends\n",
    "\n",
    "This requires to have an API key generated from https://quantum-computing.ibm.com/account"
   ]
  },
  {
   "cell_type": "code",
   "execution_count": 24,
   "metadata": {},
   "outputs": [
    {
     "ename": "AttributeError",
     "evalue": "'IBMQFactory' object has no attribute 'load_accounts'",
     "output_type": "error",
     "traceback": [
      "\u001b[0;31m---------------------------------------------------------------------------\u001b[0m",
      "\u001b[0;31mAttributeError\u001b[0m                            Traceback (most recent call last)",
      "\u001b[0;32m<ipython-input-24-9a64139a5e78>\u001b[0m in \u001b[0;36m<module>\u001b[0;34m\u001b[0m\n\u001b[1;32m      4\u001b[0m \u001b[0mlocalsim\u001b[0m \u001b[0;34m=\u001b[0m \u001b[0mBasicAer\u001b[0m\u001b[0;34m.\u001b[0m\u001b[0mget_backend\u001b[0m\u001b[0;34m(\u001b[0m\u001b[0;34m'qasm_simulator'\u001b[0m\u001b[0;34m)\u001b[0m\u001b[0;34m\u001b[0m\u001b[0;34m\u001b[0m\u001b[0m\n\u001b[1;32m      5\u001b[0m \u001b[0;34m\u001b[0m\u001b[0m\n\u001b[0;32m----> 6\u001b[0;31m \u001b[0mIBMQ\u001b[0m\u001b[0;34m.\u001b[0m\u001b[0mload_accounts\u001b[0m\u001b[0;34m(\u001b[0m\u001b[0;34m)\u001b[0m\u001b[0;34m\u001b[0m\u001b[0;34m\u001b[0m\u001b[0m\n\u001b[0m\u001b[1;32m      7\u001b[0m \u001b[0;34m\u001b[0m\u001b[0m\n\u001b[1;32m      8\u001b[0m \u001b[0mlarge_backend\u001b[0m \u001b[0;34m=\u001b[0m \u001b[0mIBMQ\u001b[0m\u001b[0;34m.\u001b[0m\u001b[0mget_backend\u001b[0m\u001b[0;34m(\u001b[0m\u001b[0;34m\"ibmq_16_melbourne\"\u001b[0m\u001b[0;34m)\u001b[0m\u001b[0;34m\u001b[0m\u001b[0;34m\u001b[0m\u001b[0m\n",
      "\u001b[0;31mAttributeError\u001b[0m: 'IBMQFactory' object has no attribute 'load_accounts'"
     ]
    }
   ],
   "source": [
    "# uncomment below if you run the script for the first time\n",
    "# IBMQ.save_account(\"YOUR TOKEN FROM THE LINK ABOVE\")\n",
    "\n",
    "localsim = BasicAer.get_backend('qasm_simulator')\n",
    "\n",
    "IBMQ.load_accounts()\n",
    "\n",
    "large_backend = IBMQ.get_backend(\"ibmq_16_melbourne\")\n",
    "onlinesim = IBMQ.get_backend(\"ibmq_qasm_simulator\")\n",
    "least_busy = least_busy(IBMQ.backends(simulator = False))"
   ]
  },
  {
   "cell_type": "markdown",
   "metadata": {},
   "source": [
    "## Defining the Problem"
   ]
  },
  {
   "cell_type": "markdown",
   "metadata": {},
   "source": [
    "Overall cost function to be solved: $D=\\sum_{i=1}^{N_f}d_i\\text{ } \\forall i \\in N_f,\\min(D)$\n",
    "\n",
    "Conflict definition:\n",
    "$B_k = [\\Delta_{k}^{\\min},\\Delta_{k}^{\\max}] \\\\ \\Delta_{k}^{min} = 1- \\Delta_t + \\min\\limits_{(s,t) \\in T_k}\\{t-s\\} \\\\ \\Delta_{k}^{max} = \\Delta_t -1 + \\max\\limits_{(s,t) \\in T_k}\\{t-s\\}$\n",
    "\n",
    "with following constraints: $d_i-d_j \\not\\in B_k \\text{ } \\forall i,j \\in N_f,\\forall k \\in N_c$"
   ]
  },
  {
   "cell_type": "markdown",
   "metadata": {},
   "source": [
    "## QUBO Definition"
   ]
  },
  {
   "cell_type": "markdown",
   "metadata": {},
   "source": [
    "### Base QUBO\n",
    "\n",
    "$f_{encoding} = \\lambda_{encoding} \\sum_{i=1}^{N_f} (\\sum_{l=0}^{N_d} d_{i,l}-1)^2$\n",
    "\n",
    "$f_{delay} = \\Delta_d \\sum_{i=1}^{N_f}\\sum_{l=0}^{N_d}ld_{i,l}$\n",
    "\n",
    "$f_{conflict} = \\lambda_{conflict} \\sum_{k} \\sum_{\\substack{l-l' | \\Delta_d (l,l') \\in B_k \\\\ i,j \\in I_k | i<j}} d_{i,l}d_{j,l'}$ \n",
    "\n",
    "$f = f_{encoding} + f_{delay} + f_{conflict}$\n",
    "\n",
    "**Issue: QUBO needs to be flattened** \n",
    "\n",
    "### Flattened QUBO\n",
    "\n",
    "$i$ and $l$ will be flattened to $m$:\n",
    "\n",
    "$m = m(i,l) = (i-1)(N_d+1)+(l+1)$\n",
    "\n",
    "$l_m = l(m) = m-1\\mod(N_d+1)$\n",
    "\n",
    "$i_m = i(m) = \\left \\lceil{\\dfrac{m}{N_d+1}}\\right \\rceil$\n",
    "\n",
    "Therefore $d_{i,l}$ will be transformed to\n",
    "\n",
    "$d_i = d_{i_m}$\n",
    "\n",
    "$d_{i_m} = l_m\\Delta_d$\n",
    "\n",
    "$d_m = \\begin{cases}\n",
    "    0, & \\text{if } d_{i_m} \\neq l_m\\Delta_d\\\\\n",
    "    1, & d_{i_m} = l_m\\Delta_d\n",
    "  \\end{cases}$\n",
    "\n",
    "### Mapping $d_m$ to Pauli $Z_m$\n",
    "\n",
    "$d_m = \\dfrac{1}{2}(1-Z_m) \\text{ with }  Z_m = \\begin{cases}\n",
    "    -1, & \\text{if } d_m = 1\\\\\n",
    "    +1, & d_m = 0\n",
    "  \\end{cases}$\n",
    "  \n",
    "### - $f_{encoding}$ -\n",
    "$f_{encoding} = \\sum_{m,n=1}^N(d_m-\\dfrac{N_f}{N})\\delta_{i_m,j_n}(d_{n}-\\dfrac{N_f}{N}) \\text{ with } \\delta_{i,j} = \\begin{cases}\n",
    "    0, & \\text{if } i\\neq j\\\\\n",
    "    1, & i=j\n",
    "  \\end{cases}$\n",
    "  \n",
    "$f_{encoding} =   \\sum_{m,n=1}^N \\delta_{i_m,j_n}(\\dfrac{1}{2}(1-Z_m)-\\dfrac{N_f}{N})(\\dfrac{1}{2}(1-Z_n)-\\dfrac{N_f}{N})$\n",
    "\n",
    "$f_{encoding} =   \\sum_{m,n=1}^N \\delta_{i_m,j_n}\\dfrac{1}{4}(1-Z_m-\\dfrac{2 N_f}{N})(1-Z_n-\\dfrac{2 N_f}{N})$\n",
    "\n",
    "$f_{encoding} =   \\sum_{m,n=1}^N \\delta_{i_m,j_n}\\dfrac{1}{4}(c-Z_m)(c-Z_n)$\n",
    "\n",
    "$f_{encoding} =   \\dfrac{1}{4}\\sum_{m,n=1}^N \\delta_{i_m,j_n}(c^2-cZ_m-cZ_n+Z_mZ_n)$\n",
    "\n",
    "with $ c = 1-\\dfrac{2 N_f}{N}$\n",
    "\n",
    "$f_{encoding} =   \\dfrac{1}{4}\\sum_{m,n=1}^N \\delta_{i_m,j_n}(\\left(1-\\dfrac{2 N_f}{N}\\right)^2-\\left(1-\\dfrac{2 N_f}{N}\\right)Z_m-\\left(1-\\dfrac{2 N_f}{N}\\right)Z_n+Z_mZ_n)$\n",
    "\n",
    "### - $f_{deleay}$ -\n",
    "\n",
    "$f_{delay} = \\dfrac{1}{d_{\\max}}\\sum_{m=1}^Nl_md_m$\n",
    "\n",
    "$f_{delay} = \\dfrac{1}{2 d_{\\max}}\\sum_{m=1}^Nl_m(1-Z_m)$\n",
    "\n",
    "$f_{delay} = \\dfrac{1}{2 d_{\\max}}\\sum_{m=1}^Nl_m - \\dfrac{1}{2 d_{\\max}}\\sum_{m=1}^Nl_mZ_m$\n",
    "\n",
    "### - $f_{conflict}$ -\n",
    "\n",
    "$f_{conflict} = \\sum_k\\sum_{m,n=1}^N(d_md_n\\delta_{(l_m-l_n)\\Delta_d\\in B_k}\\delta_{i_m\\in I_k}\\delta_{j_n\\in I_k}\\delta_{i_m<j_b}) = \\sum_k\\sum_{m,n=1}^N\\dfrac{1}{4}\\left((Z_mZ_n-Z_m-Z_n+1)\\delta_{(l_m-l_n)\\Delta_d\\in B_k}\\delta_{i_m\\in I_k}\\delta_{j_n\\in I_k}\\delta_{i_m<j_n}\\right)$\n",
    "\n",
    "$\\text{ with } \\delta_{(l_m-l_n)\\Delta_d\\in B_k} = \\begin{cases}\n",
    "    0, & \\text{if } (l_m-l_n)\\Delta_d\\not\\in B_k\\\\\n",
    "    1, & (l_m-l_n)\\Delta_d\\in B_k\n",
    "  \\end{cases}$\n",
    "  \n",
    "$\\text{ with } \\delta_{i_m\\in I_k} = \\begin{cases}\n",
    "    0, & \\text{if } i_m\\not\\in I_k\\\\\n",
    "    1, & i_m\\in I_k\n",
    "  \\end{cases}$\n",
    "  \n",
    "$\\text{ with } \\delta_{i_n\\in I_k} = \\begin{cases}\n",
    "    0, & \\text{if } i_n\\not\\in I_k\\\\\n",
    "    1, & i_n\\in I_k\n",
    "  \\end{cases}$\n",
    "\n",
    "$\\text{ with } \\delta_{i_m<j_b} = \\begin{cases}\n",
    "    0, & \\text{if } i_m>=j_b\\\\\n",
    "    1, & i_m<j_b\n",
    "  \\end{cases}$\n",
    "\n",
    "### Final QUBO with mapped Pauli Z Operator\n",
    "\n",
    "$f_{encoding} =   \\dfrac{1}{4}\\sum_{m,n=1}^N \\delta_{i_m,j_n}(\\text{const}-\\left(1-\\dfrac{2 N_f}{N}\\right)Z_m-\\left(1-\\dfrac{2 N_f}{N}\\right)Z_n+Z_mZ_n)$\n",
    "\n",
    "$f_{delay} = \\text{const} - \\dfrac{1}{2 d_{\\max}}\\sum_{m=1}^Nl_mZ_m$\n",
    "\n",
    "$f_{conflict}=\\sum_k\\sum_{m,n=1}^N\\dfrac{1}{4}\\left((Z_mZ_n-Z_m-Z_n+const)\\delta_{(l_m-l_n)\\Delta_d\\in B_k}\\delta_{i_m\\in I_k}\\delta_{j_n\\in I_k}\\delta_{i_m<j_n}\\right)$"
   ]
  },
  {
   "cell_type": "markdown",
   "metadata": {},
   "source": [
    "## Final Ising Hamiltonian"
   ]
  },
  {
   "cell_type": "markdown",
   "metadata": {},
   "source": [
    "Generelle Form: $\\hat{\\mathcal H}_b = \\sum_{i,j=1}^{N}J_{i,j}\\hat{Z}_i\\hat{Z}_j + \\sum_{i}^Nh_i\\hat{Z}_i$\n",
    "\n",
    "**Einsetzen des Qubo:**\n",
    "\n",
    "$J_{m,n} = \\dfrac{1}{4}\\delta_{i_m,j_n} + \\dfrac{1}{4}\\delta_{i_m\\in I_k}\\delta_{j_n\\in I_k}\\delta_{i_m<j_n}$\n",
    "\n",
    "$h_m = -\\dfrac{1}{4}\\sum_n\\left(\\left(1-\\dfrac{2N_f}{N}\\right)(\\delta_{i_m,j_n}+\\delta_{i_m,j_n})+ \\sum_k\\left(\\delta_{i_m\\in I_k}\\delta_{j_n\\in I_k}\\delta_{i_m<j_j} + \\delta_{i_n\\in I_k}\\delta_{j_m\\in I_k}\\delta_{i_m<j_n}\\right)\\right)-\\dfrac{1}{2d_{\\max}}l_m$"
   ]
  },
  {
   "cell_type": "markdown",
   "metadata": {},
   "source": [
    "## Setting the Constants"
   ]
  },
  {
   "cell_type": "code",
   "execution_count": 6,
   "metadata": {},
   "outputs": [],
   "source": [
    "# set number of available qubits\n",
    "nbr_qubits = 6\n",
    "\n",
    "# define departure max delay, departure delay resolution\n",
    "delta_d = 1 # delay resolution\n",
    "N_d = 2 # maximum delay steps\n",
    "dmax = delta_d * N_d\n",
    "a = [l*delta_d for l in range(N_d+1)]\n",
    "\n",
    "# calculate max calculatable flights using given number of qubits\n",
    "N_f = int(nbr_qubits / (N_d + 1))\n",
    "\n",
    "# setting N, a helper variable for m\n",
    "N = (N_d + 1) * N_f\n",
    "\n",
    "# set danger zones if planes come too close to each other\n",
    "delta_t = 3 #minutes\n",
    "delta_x = 30 #miles\n",
    "\n",
    "# setting the penalty weights\n",
    "lambda_encoding = 12\n",
    "lambda_conflict = 12"
   ]
  },
  {
   "cell_type": "markdown",
   "metadata": {},
   "source": [
    "## Generating Test Data\n",
    "Using a script based on the conflict generator script by Tobias Stollenwerk"
   ]
  },
  {
   "cell_type": "code",
   "execution_count": 7,
   "metadata": {},
   "outputs": [],
   "source": [
    "# small test instances with known solutions\n",
    "instances = [{\"conflicts\":[(1,2)],\"timeLimits\":[(-1,2)]}]"
   ]
  },
  {
   "cell_type": "code",
   "execution_count": 8,
   "metadata": {},
   "outputs": [
    {
     "name": "stdout",
     "output_type": "stream",
     "text": "Calculate 1 instances\n"
    },
    {
     "ename": "KeyboardInterrupt",
     "evalue": "",
     "output_type": "error",
     "traceback": [
      "\u001b[0;31m---------------------------------------------------------------------------\u001b[0m",
      "\u001b[0;31mKeyboardInterrupt\u001b[0m                         Traceback (most recent call last)",
      "\u001b[0;32m<ipython-input-8-fb66c8cd007d>\u001b[0m in \u001b[0;36m<module>\u001b[0;34m\u001b[0m\n\u001b[1;32m      1\u001b[0m \u001b[0;31m# instance generation\u001b[0m\u001b[0;34m\u001b[0m\u001b[0;34m\u001b[0m\u001b[0;34m\u001b[0m\u001b[0m\n\u001b[0;32m----> 2\u001b[0;31m \u001b[0minstances\u001b[0m \u001b[0;34m=\u001b[0m \u001b[0mcreate_instances\u001b[0m\u001b[0;34m(\u001b[0m\u001b[0mFmin\u001b[0m\u001b[0;34m=\u001b[0m\u001b[0mN_f\u001b[0m\u001b[0;34m,\u001b[0m\u001b[0mFmax\u001b[0m\u001b[0;34m=\u001b[0m\u001b[0mN_f\u001b[0m\u001b[0;34m,\u001b[0m\u001b[0mDmax\u001b[0m\u001b[0;34m=\u001b[0m\u001b[0mdmax\u001b[0m\u001b[0;34m,\u001b[0m\u001b[0mDmin\u001b[0m\u001b[0;34m=\u001b[0m\u001b[0mdmax\u001b[0m\u001b[0;34m,\u001b[0m\u001b[0mdmin\u001b[0m\u001b[0;34m=\u001b[0m\u001b[0mdelta_d\u001b[0m\u001b[0;34m,\u001b[0m\u001b[0mdmax\u001b[0m\u001b[0;34m=\u001b[0m\u001b[0mdelta_d\u001b[0m\u001b[0;34m,\u001b[0m\u001b[0mrepetitions\u001b[0m\u001b[0;34m=\u001b[0m\u001b[0;36m1\u001b[0m\u001b[0;34m,\u001b[0m\u001b[0mTmin\u001b[0m\u001b[0;34m=\u001b[0m\u001b[0mdmax\u001b[0m\u001b[0;34m+\u001b[0m\u001b[0mdelta_d\u001b[0m\u001b[0;34m,\u001b[0m\u001b[0mTmax\u001b[0m\u001b[0;34m=\u001b[0m\u001b[0mdmax\u001b[0m\u001b[0;34m+\u001b[0m\u001b[0mdelta_d\u001b[0m\u001b[0;34m,\u001b[0m\u001b[0mtmin\u001b[0m\u001b[0;34m=\u001b[0m\u001b[0mdelta_d\u001b[0m\u001b[0;34m,\u001b[0m\u001b[0mtmax\u001b[0m\u001b[0;34m=\u001b[0m\u001b[0mdelta_d\u001b[0m\u001b[0;34m)\u001b[0m\u001b[0;34m\u001b[0m\u001b[0;34m\u001b[0m\u001b[0m\n\u001b[0m\u001b[1;32m      3\u001b[0m \u001b[0mpp\u001b[0m\u001b[0;34m.\u001b[0m\u001b[0mpprint\u001b[0m\u001b[0;34m(\u001b[0m\u001b[0minstances\u001b[0m\u001b[0;34m)\u001b[0m\u001b[0;34m\u001b[0m\u001b[0;34m\u001b[0m\u001b[0m\n",
      "\u001b[0;32m~/Documents/Github/quantum-airtraffic/create_random_instances.py\u001b[0m in \u001b[0;36mcreate_instances\u001b[0;34m(output, repetitions, Fmin, Fmax, Cmin, Cmax, Tmin, Tmax, tmin, tmax, tspread, Dmin, Dmax, dmin, dmax, names_only, seed)\u001b[0m\n\u001b[1;32m     66\u001b[0m                 \u001b[0mj\u001b[0m \u001b[0;34m=\u001b[0m \u001b[0mflights\u001b[0m\u001b[0;34m[\u001b[0m\u001b[0mrandom\u001b[0m\u001b[0;34m.\u001b[0m\u001b[0mrandint\u001b[0m\u001b[0;34m(\u001b[0m\u001b[0;36m1\u001b[0m\u001b[0;34m,\u001b[0m \u001b[0mF\u001b[0m \u001b[0;34m-\u001b[0m \u001b[0;36m1\u001b[0m\u001b[0;34m)\u001b[0m\u001b[0;34m]\u001b[0m\u001b[0;34m\u001b[0m\u001b[0;34m\u001b[0m\u001b[0m\n\u001b[1;32m     67\u001b[0m                 \u001b[0;32mwhile\u001b[0m \u001b[0;34m(\u001b[0m\u001b[0mj\u001b[0m \u001b[0;34m==\u001b[0m \u001b[0mi\u001b[0m\u001b[0;34m)\u001b[0m\u001b[0;34m:\u001b[0m\u001b[0;34m\u001b[0m\u001b[0;34m\u001b[0m\u001b[0m\n\u001b[0;32m---> 68\u001b[0;31m                     \u001b[0mj\u001b[0m \u001b[0;34m=\u001b[0m \u001b[0mflights\u001b[0m\u001b[0;34m[\u001b[0m\u001b[0mrandom\u001b[0m\u001b[0;34m.\u001b[0m\u001b[0mrandint\u001b[0m\u001b[0;34m(\u001b[0m\u001b[0;36m1\u001b[0m\u001b[0;34m,\u001b[0m \u001b[0mF\u001b[0m \u001b[0;34m-\u001b[0m \u001b[0;36m1\u001b[0m\u001b[0;34m)\u001b[0m\u001b[0;34m]\u001b[0m\u001b[0;34m\u001b[0m\u001b[0;34m\u001b[0m\u001b[0m\n\u001b[0m\u001b[1;32m     69\u001b[0m                 \u001b[0;32mif\u001b[0m\u001b[0;34m(\u001b[0m\u001b[0mi\u001b[0m \u001b[0;34m<\u001b[0m \u001b[0mj\u001b[0m\u001b[0;34m)\u001b[0m\u001b[0;34m:\u001b[0m\u001b[0;34m\u001b[0m\u001b[0;34m\u001b[0m\u001b[0m\n\u001b[1;32m     70\u001b[0m                     \u001b[0;32mif\u001b[0m\u001b[0;34m(\u001b[0m\u001b[0;34m(\u001b[0m\u001b[0mi\u001b[0m\u001b[0;34m,\u001b[0m\u001b[0mj\u001b[0m\u001b[0;34m)\u001b[0m \u001b[0;32min\u001b[0m \u001b[0mconflicts\u001b[0m\u001b[0;34m)\u001b[0m\u001b[0;34m:\u001b[0m\u001b[0;34m\u001b[0m\u001b[0;34m\u001b[0m\u001b[0m\n",
      "\u001b[0;32m~/anaconda3/envs/Qiskitenv/lib/python3.8/random.py\u001b[0m in \u001b[0;36mrandint\u001b[0;34m(self, a, b)\u001b[0m\n\u001b[1;32m    246\u001b[0m         \"\"\"\n\u001b[1;32m    247\u001b[0m \u001b[0;34m\u001b[0m\u001b[0m\n\u001b[0;32m--> 248\u001b[0;31m         \u001b[0;32mreturn\u001b[0m \u001b[0mself\u001b[0m\u001b[0;34m.\u001b[0m\u001b[0mrandrange\u001b[0m\u001b[0;34m(\u001b[0m\u001b[0ma\u001b[0m\u001b[0;34m,\u001b[0m \u001b[0mb\u001b[0m\u001b[0;34m+\u001b[0m\u001b[0;36m1\u001b[0m\u001b[0;34m)\u001b[0m\u001b[0;34m\u001b[0m\u001b[0;34m\u001b[0m\u001b[0m\n\u001b[0m\u001b[1;32m    249\u001b[0m \u001b[0;34m\u001b[0m\u001b[0m\n\u001b[1;32m    250\u001b[0m     \u001b[0;32mdef\u001b[0m \u001b[0m_randbelow_with_getrandbits\u001b[0m\u001b[0;34m(\u001b[0m\u001b[0mself\u001b[0m\u001b[0;34m,\u001b[0m \u001b[0mn\u001b[0m\u001b[0;34m)\u001b[0m\u001b[0;34m:\u001b[0m\u001b[0;34m\u001b[0m\u001b[0;34m\u001b[0m\u001b[0m\n",
      "\u001b[0;32m~/anaconda3/envs/Qiskitenv/lib/python3.8/random.py\u001b[0m in \u001b[0;36mrandrange\u001b[0;34m(self, start, stop, step, _int)\u001b[0m\n\u001b[1;32m    222\u001b[0m         \u001b[0mwidth\u001b[0m \u001b[0;34m=\u001b[0m \u001b[0mistop\u001b[0m \u001b[0;34m-\u001b[0m \u001b[0mistart\u001b[0m\u001b[0;34m\u001b[0m\u001b[0;34m\u001b[0m\u001b[0m\n\u001b[1;32m    223\u001b[0m         \u001b[0;32mif\u001b[0m \u001b[0mstep\u001b[0m \u001b[0;34m==\u001b[0m \u001b[0;36m1\u001b[0m \u001b[0;32mand\u001b[0m \u001b[0mwidth\u001b[0m \u001b[0;34m>\u001b[0m \u001b[0;36m0\u001b[0m\u001b[0;34m:\u001b[0m\u001b[0;34m\u001b[0m\u001b[0;34m\u001b[0m\u001b[0m\n\u001b[0;32m--> 224\u001b[0;31m             \u001b[0;32mreturn\u001b[0m \u001b[0mistart\u001b[0m \u001b[0;34m+\u001b[0m \u001b[0mself\u001b[0m\u001b[0;34m.\u001b[0m\u001b[0m_randbelow\u001b[0m\u001b[0;34m(\u001b[0m\u001b[0mwidth\u001b[0m\u001b[0;34m)\u001b[0m\u001b[0;34m\u001b[0m\u001b[0;34m\u001b[0m\u001b[0m\n\u001b[0m\u001b[1;32m    225\u001b[0m         \u001b[0;32mif\u001b[0m \u001b[0mstep\u001b[0m \u001b[0;34m==\u001b[0m \u001b[0;36m1\u001b[0m\u001b[0;34m:\u001b[0m\u001b[0;34m\u001b[0m\u001b[0;34m\u001b[0m\u001b[0m\n\u001b[1;32m    226\u001b[0m             \u001b[0;32mraise\u001b[0m \u001b[0mValueError\u001b[0m\u001b[0;34m(\u001b[0m\u001b[0;34m\"empty range for randrange() (%d, %d, %d)\"\u001b[0m \u001b[0;34m%\u001b[0m \u001b[0;34m(\u001b[0m\u001b[0mistart\u001b[0m\u001b[0;34m,\u001b[0m \u001b[0mistop\u001b[0m\u001b[0;34m,\u001b[0m \u001b[0mwidth\u001b[0m\u001b[0;34m)\u001b[0m\u001b[0;34m)\u001b[0m\u001b[0;34m\u001b[0m\u001b[0;34m\u001b[0m\u001b[0m\n",
      "\u001b[0;31mKeyboardInterrupt\u001b[0m: "
     ]
    }
   ],
   "source": [
    "# instance generation\n",
    "instances = create_instances(Fmin=N_f,Fmax=N_f,Dmax=dmax,Dmin=dmax,dmin=delta_d,dmax=delta_d,repetitions=1,Tmin=dmax+delta_d,Tmax=dmax+delta_d,tmin=delta_d,tmax=delta_d)\n",
    "pp.pprint(instances)"
   ]
  },
  {
   "cell_type": "code",
   "execution_count": 9,
   "metadata": {},
   "outputs": [],
   "source": [
    "# assign instance to variable Ik\n",
    "Ik = {instances[0][\"conflicts\"][index]:(bk[0],bk[1]) for index,bk in enumerate(instances[0][\"timeLimits\"])}\n",
    "# check if defined instance is valid\n",
    "for el,bk in Ik.items():\n",
    "    if el[0] > N_f or el[1] > N_f or el[0] > el[1]:\n",
    "        print(\"Invalid conflict pair:\",el)\n",
    "    elif (bk[0] >= dmax and bk[1] <= -1*dmax) or (bk[1] >= dmax and bk[0] <= -1*dmax) or bk == (0,0) or bk[0] > bk[1]:\n",
    "        print(\"Invalid Bk:\",bk,\"for conflict pair\", el)"
   ]
  },
  {
   "cell_type": "markdown",
   "metadata": {},
   "source": [
    "### Visualizing the Problem Instance"
   ]
  },
  {
   "cell_type": "code",
   "execution_count": 10,
   "metadata": {},
   "outputs": [
    {
     "data": {
      "image/png": "[encoded data removed]",
      "image/svg+xml": "<?xml version=\"1.0\" encoding=\"utf-8\" standalone=\"no\"?>\n<!DOCTYPE svg PUBLIC \"-//W3C//DTD SVG 1.1//EN\"\n  \"http://www.w3.org/Graphics/SVG/1.1/DTD/svg11.dtd\">\n<!-- Created with matplotlib (https://matplotlib.org/) -->\n<svg height=\"302.4pt\" version=\"1.1\" viewBox=\"0 0 446.4 302.4\" width=\"446.4pt\" xmlns=\"http://www.w3.org/2000/svg\" xmlns:xlink=\"http://www.w3.org/1999/xlink\">\n <defs>\n  <style type=\"text/css\">\n*{stroke-linecap:butt;stroke-linejoin:round;}\n  </style>\n </defs>\n <g id=\"figure_1\">\n  <g id=\"patch_1\">\n   <path d=\"M 0 302.4 \nL 446.4 302.4 \nL 446.4 0 \nL 0 0 \nz\n\" style=\"fill:#ffffff;\"/>\n  </g>\n  <g id=\"axes_1\">\n   <g id=\"LineCollection_1\">\n    <path clip-path=\"url(#pf4200a1c9b)\" d=\"M 51.354664 277.217031 \nL 395.045336 25.182969 \n\" style=\"fill:none;stroke:#000000;stroke-opacity:0.7;\"/>\n   </g>\n   <g id=\"text_1\">\n    <g id=\"patch_2\">\n     <path clip-path=\"url(#pf4200a1c9b)\" d=\"M 213.267584 175.147516 \nL 249.025632 148.925548 \nQ 251.444866 147.151483 249.670802 144.732249 \nL 237.325714 127.897654 \nQ 235.55165 125.478419 233.132416 127.252484 \nL 197.374368 153.474452 \nQ 194.955134 155.248517 196.729198 157.667751 \nL 209.074286 174.502346 \nQ 210.84835 176.921581 213.267584 175.147516 \nz\n\" style=\"fill:#ffffff;stroke:#ffffff;stroke-linejoin:miter;\"/>\n    </g>\n    <g clip-path=\"url(#pf4200a1c9b)\">\n     <!-- kmin: -1, -->\n     <defs>\n      <path d=\"M 9.078125 75.984375 \nL 18.109375 75.984375 \nL 18.109375 31.109375 \nL 44.921875 54.6875 \nL 56.390625 54.6875 \nL 27.390625 29.109375 \nL 57.625 0 \nL 45.90625 0 \nL 18.109375 26.703125 \nL 18.109375 0 \nL 9.078125 0 \nz\n\" id=\"DejaVuSans-107\"/>\n      <path d=\"M 52 44.1875 \nQ 55.375 50.25 60.0625 53.125 \nQ 64.75 56 71.09375 56 \nQ 79.640625 56 84.28125 50.015625 \nQ 88.921875 44.046875 88.921875 33.015625 \nL 88.921875 0 \nL 79.890625 0 \nL 79.890625 32.71875 \nQ 79.890625 40.578125 77.09375 44.375 \nQ 74.3125 48.1875 68.609375 48.1875 \nQ 61.625 48.1875 57.5625 43.546875 \nQ 53.515625 38.921875 53.515625 30.90625 \nL 53.515625 0 \nL 44.484375 0 \nL 44.484375 32.71875 \nQ 44.484375 40.625 41.703125 44.40625 \nQ 38.921875 48.1875 33.109375 48.1875 \nQ 26.21875 48.1875 22.15625 43.53125 \nQ 18.109375 38.875 18.109375 30.90625 \nL 18.109375 0 \nL 9.078125 0 \nL 9.078125 54.6875 \nL 18.109375 54.6875 \nL 18.109375 46.1875 \nQ 21.1875 51.21875 25.484375 53.609375 \nQ 29.78125 56 35.6875 56 \nQ 41.65625 56 45.828125 52.96875 \nQ 50 49.953125 52 44.1875 \nz\n\" id=\"DejaVuSans-109\"/>\n      <path d=\"M 9.421875 54.6875 \nL 18.40625 54.6875 \nL 18.40625 0 \nL 9.421875 0 \nz\nM 9.421875 75.984375 \nL 18.40625 75.984375 \nL 18.40625 64.59375 \nL 9.421875 64.59375 \nz\n\" id=\"DejaVuSans-105\"/>\n      <path d=\"M 54.890625 33.015625 \nL 54.890625 0 \nL 45.90625 0 \nL 45.90625 32.71875 \nQ 45.90625 40.484375 42.875 44.328125 \nQ 39.84375 48.1875 33.796875 48.1875 \nQ 26.515625 48.1875 22.3125 43.546875 \nQ 18.109375 38.921875 18.109375 30.90625 \nL 18.109375 0 \nL 9.078125 0 \nL 9.078125 54.6875 \nL 18.109375 54.6875 \nL 18.109375 46.1875 \nQ 21.34375 51.125 25.703125 53.5625 \nQ 30.078125 56 35.796875 56 \nQ 45.21875 56 50.046875 50.171875 \nQ 54.890625 44.34375 54.890625 33.015625 \nz\n\" id=\"DejaVuSans-110\"/>\n      <path d=\"M 11.71875 12.40625 \nL 22.015625 12.40625 \nL 22.015625 0 \nL 11.71875 0 \nz\nM 11.71875 51.703125 \nL 22.015625 51.703125 \nL 22.015625 39.3125 \nL 11.71875 39.3125 \nz\n\" id=\"DejaVuSans-58\"/>\n      <path id=\"DejaVuSans-32\"/>\n      <path d=\"M 4.890625 31.390625 \nL 31.203125 31.390625 \nL 31.203125 23.390625 \nL 4.890625 23.390625 \nz\n\" id=\"DejaVuSans-45\"/>\n      <path d=\"M 12.40625 8.296875 \nL 28.515625 8.296875 \nL 28.515625 63.921875 \nL 10.984375 60.40625 \nL 10.984375 69.390625 \nL 28.421875 72.90625 \nL 38.28125 72.90625 \nL 38.28125 8.296875 \nL 54.390625 8.296875 \nL 54.390625 0 \nL 12.40625 0 \nz\n\" id=\"DejaVuSans-49\"/>\n      <path d=\"M 11.71875 12.40625 \nL 22.015625 12.40625 \nL 22.015625 4 \nL 14.015625 -11.625 \nL 7.71875 -11.625 \nL 11.71875 4 \nz\n\" id=\"DejaVuSans-44\"/>\n     </defs>\n     <g style=\"fill:#ff0000;\" transform=\"translate(203.641806 162.021154)rotate(-36.253213)scale(0.1 -0.1)\">\n      <use xlink:href=\"#DejaVuSans-107\"/>\n      <use x=\"57.910156\" xlink:href=\"#DejaVuSans-109\"/>\n      <use x=\"155.322266\" xlink:href=\"#DejaVuSans-105\"/>\n      <use x=\"183.105469\" xlink:href=\"#DejaVuSans-110\"/>\n      <use x=\"246.484375\" xlink:href=\"#DejaVuSans-58\"/>\n      <use x=\"280.175781\" xlink:href=\"#DejaVuSans-32\"/>\n      <use x=\"311.962891\" xlink:href=\"#DejaVuSans-45\"/>\n      <use x=\"348.046875\" xlink:href=\"#DejaVuSans-49\"/>\n      <use x=\"411.669922\" xlink:href=\"#DejaVuSans-44\"/>\n     </g>\n    </g>\n    <g clip-path=\"url(#pf4200a1c9b)\">\n     <!-- kmax: 2 -->\n     <defs>\n      <path d=\"M 34.28125 27.484375 \nQ 23.390625 27.484375 19.1875 25 \nQ 14.984375 22.515625 14.984375 16.5 \nQ 14.984375 11.71875 18.140625 8.90625 \nQ 21.296875 6.109375 26.703125 6.109375 \nQ 34.1875 6.109375 38.703125 11.40625 \nQ 43.21875 16.703125 43.21875 25.484375 \nL 43.21875 27.484375 \nz\nM 52.203125 31.203125 \nL 52.203125 0 \nL 43.21875 0 \nL 43.21875 8.296875 \nQ 40.140625 3.328125 35.546875 0.953125 \nQ 30.953125 -1.421875 24.3125 -1.421875 \nQ 15.921875 -1.421875 10.953125 3.296875 \nQ 6 8.015625 6 15.921875 \nQ 6 25.140625 12.171875 29.828125 \nQ 18.359375 34.515625 30.609375 34.515625 \nL 43.21875 34.515625 \nL 43.21875 35.40625 \nQ 43.21875 41.609375 39.140625 45 \nQ 35.0625 48.390625 27.6875 48.390625 \nQ 23 48.390625 18.546875 47.265625 \nQ 14.109375 46.140625 10.015625 43.890625 \nL 10.015625 52.203125 \nQ 14.9375 54.109375 19.578125 55.046875 \nQ 24.21875 56 28.609375 56 \nQ 40.484375 56 46.34375 49.84375 \nQ 52.203125 43.703125 52.203125 31.203125 \nz\n\" id=\"DejaVuSans-97\"/>\n      <path d=\"M 54.890625 54.6875 \nL 35.109375 28.078125 \nL 55.90625 0 \nL 45.3125 0 \nL 29.390625 21.484375 \nL 13.484375 0 \nL 2.875 0 \nL 24.125 28.609375 \nL 4.6875 54.6875 \nL 15.28125 54.6875 \nL 29.78125 35.203125 \nL 44.28125 54.6875 \nz\n\" id=\"DejaVuSans-120\"/>\n      <path d=\"M 19.1875 8.296875 \nL 53.609375 8.296875 \nL 53.609375 0 \nL 7.328125 0 \nL 7.328125 8.296875 \nQ 12.9375 14.109375 22.625 23.890625 \nQ 32.328125 33.6875 34.8125 36.53125 \nQ 39.546875 41.84375 41.421875 45.53125 \nQ 43.3125 49.21875 43.3125 52.78125 \nQ 43.3125 58.59375 39.234375 62.25 \nQ 35.15625 65.921875 28.609375 65.921875 \nQ 23.96875 65.921875 18.8125 64.3125 \nQ 13.671875 62.703125 7.8125 59.421875 \nL 7.8125 69.390625 \nQ 13.765625 71.78125 18.9375 73 \nQ 24.125 74.21875 28.421875 74.21875 \nQ 39.75 74.21875 46.484375 68.546875 \nQ 53.21875 62.890625 53.21875 53.421875 \nQ 53.21875 48.921875 51.53125 44.890625 \nQ 49.859375 40.875 45.40625 35.40625 \nQ 44.1875 33.984375 37.640625 27.21875 \nQ 31.109375 20.453125 19.1875 8.296875 \nz\n\" id=\"DejaVuSans-50\"/>\n     </defs>\n     <g style=\"fill:#ff0000;\" transform=\"translate(211.817919 169.911454)rotate(-36.253213)scale(0.1 -0.1)\">\n      <use xlink:href=\"#DejaVuSans-107\"/>\n      <use x=\"57.910156\" xlink:href=\"#DejaVuSans-109\"/>\n      <use x=\"155.322266\" xlink:href=\"#DejaVuSans-97\"/>\n      <use x=\"216.601562\" xlink:href=\"#DejaVuSans-120\"/>\n      <use x=\"275.78125\" xlink:href=\"#DejaVuSans-58\"/>\n      <use x=\"309.472656\" xlink:href=\"#DejaVuSans-32\"/>\n      <use x=\"341.259766\" xlink:href=\"#DejaVuSans-50\"/>\n     </g>\n    </g>\n   </g>\n   <g id=\"PathCollection_1\">\n    <defs>\n     <path d=\"M 0 11.18034 \nC 2.965061 11.18034 5.80908 10.002309 7.905694 7.905694 \nC 10.002309 5.80908 11.18034 2.965061 11.18034 0 \nC 11.18034 -2.965061 10.002309 -5.80908 7.905694 -7.905694 \nC 5.80908 -10.002309 2.965061 -11.18034 0 -11.18034 \nC -2.965061 -11.18034 -5.80908 -10.002309 -7.905694 -7.905694 \nC -10.002309 -5.80908 -11.18034 -2.965061 -11.18034 0 \nC -11.18034 2.965061 -10.002309 5.80908 -7.905694 7.905694 \nC -5.80908 10.002309 -2.965061 11.18034 0 11.18034 \nz\n\" id=\"m9c485e86bd\" style=\"stroke:#00008b;stroke-opacity:0.7;\"/>\n    </defs>\n    <g clip-path=\"url(#pf4200a1c9b)\">\n     <use style=\"fill:#00008b;fill-opacity:0.7;stroke:#00008b;stroke-opacity:0.7;\" x=\"51.354664\" xlink:href=\"#m9c485e86bd\" y=\"277.217031\"/>\n     <use style=\"fill:#00008b;fill-opacity:0.7;stroke:#00008b;stroke-opacity:0.7;\" x=\"395.045336\" xlink:href=\"#m9c485e86bd\" y=\"25.182969\"/>\n    </g>\n   </g>\n   <g id=\"text_2\">\n    <g clip-path=\"url(#pf4200a1c9b)\">\n     <!-- 1 -->\n     <g style=\"fill:#ffffff;opacity:0.7;\" transform=\"translate(47.537164 280.528281)scale(0.12 -0.12)\">\n      <use xlink:href=\"#DejaVuSans-49\"/>\n     </g>\n    </g>\n   </g>\n   <g id=\"text_3\">\n    <g clip-path=\"url(#pf4200a1c9b)\">\n     <!-- 2 -->\n     <g style=\"fill:#ffffff;opacity:0.7;\" transform=\"translate(391.227836 28.494219)scale(0.12 -0.12)\">\n      <use xlink:href=\"#DejaVuSans-50\"/>\n     </g>\n    </g>\n   </g>\n  </g>\n </g>\n <defs>\n  <clipPath id=\"pf4200a1c9b\">\n   <rect height=\"288\" width=\"432\" x=\"7.2\" y=\"7.2\"/>\n  </clipPath>\n </defs>\n</svg>\n",
      "text/plain": "<Figure size 432x288 with 1 Axes>"
     },
     "metadata": {},
     "output_type": "display_data"
    }
   ],
   "source": [
    "G=nx.Graph()\n",
    "G.add_nodes_from(range(1,N_f))\n",
    "G.add_edges_from([el for el,bk in Ik.items()])\n",
    "pos = nx.spring_layout(G,k=0.65,iterations=20)\n",
    "nx.draw(G,pos,edge_color='black',width=1,linewidths=1,\\\n",
    "node_size=500,node_color='darkblue',alpha=0.7,\\\n",
    "labels={node:node for node in G.nodes()},font_color=\"white\")\n",
    "nx.draw_networkx_edge_labels(G,pos,edge_labels={el:\"kmin: \"+str(bk[0])+\",\\nkmax: \"+str(bk[1]) for el,bk in Ik.items()},font_color='red')\n",
    "plt.axis('off')\n",
    "plt.show()"
   ]
  },
  {
   "cell_type": "markdown",
   "metadata": {},
   "source": [
    "## Ising Function\n",
    "By [David Mesterhazy](https://de.linkedin.com/in/david-mesterhazy-12516427)"
   ]
  },
  {
   "cell_type": "code",
   "execution_count": 15,
   "metadata": {},
   "outputs": [],
   "source": [
    "def ising(nbr_qubits : int, J : dict, h : dict) -> tuple:\n",
    "    pauli_string = []\n",
    "    op = {'I' : [0, 0], 'X' : [0, 1], 'Y' : [1, 1], 'Z' : [1, 0]}\n",
    "\n",
    "    for (i, j), Jv in J.items():\n",
    "        assert np.mod(i-j, nbr_qubits) != 0, 'indices cannot be equal'.format(i, j)\n",
    "        # intialize classical bit string that defines tensor product operator of NN term\n",
    "        config = np.zeros((nbr_qubits,2))\n",
    "        # following two lines defines NN term\n",
    "        config[np.mod(i-1, nbr_qubits), :] = op['Z']\n",
    "        config[np.mod(j-1, nbr_qubits), :] = op['Z']\n",
    "        # append classical bit string to pauli_list with corresponding coefficents, here: J and h\n",
    "        pauli_string.append((Jv, Pauli(np.array(config)[:,0], np.array(config)[:,1])))\n",
    "        \n",
    "    for i, hv in h.items():\n",
    "        # intialize classical bit string that defines tensor product operator of NN term\n",
    "        config = np.zeros((nbr_qubits,2)) # 2 -> anzahl der variablen (zeile,spalte)\n",
    "        # following two lines defines NN term\n",
    "        config[np.mod(i-1, nbr_qubits), :] = op['Z'] # setz zeile i op[z]\n",
    "        # append classical bit string to pauli_list with corresponding coefficents, here: J and h\n",
    "        pauli_string.append((hv, Pauli(np.array(config)[:,0], np.array(config)[:,1])))\n",
    "    \n",
    "    return pauli_string"
   ]
  },
  {
   "cell_type": "markdown",
   "metadata": {},
   "source": [
    "## Realization of the Ising"
   ]
  },
  {
   "cell_type": "markdown",
   "metadata": {},
   "source": [
    "$\\hat{\\mathcal H}_b = \\sum_{i,j=1}^{N}J_{i,j}\\hat{Z}_i\\hat{Z}_j + \\sum_{i}^Nh_i\\hat{Z}_i$\n"
   ]
  },
  {
   "cell_type": "markdown",
   "metadata": {},
   "source": [
    "### Defining Helper Functions"
   ]
  },
  {
   "cell_type": "code",
   "execution_count": 11,
   "metadata": {},
   "outputs": [],
   "source": [
    "# helper functions to assign i(m) and l(m)\n",
    "l = lambda alpha: int(np.mod(alpha-1, N_d+1))\n",
    "i = lambda alpha: int(np.ceil(alpha / (N_d+1)))\n",
    "\n",
    "delta = lambda x, y: 1 if x == y else 0\n",
    "\n",
    "def in_range(x, list_vals):\n",
    "    assert len(list_vals) > 1, \"Need at least one element to compare against\"\n",
    "    return min(list_vals) <= x <= max(list_vals)"
   ]
  },
  {
   "cell_type": "markdown",
   "metadata": {},
   "source": [
    "### Creating the magnet field h"
   ]
  },
  {
   "cell_type": "markdown",
   "metadata": {},
   "source": [
    "$h_i = -\\dfrac{1}{4}\\sum_j\\left(\\left(1-\\dfrac{2N_f}{N}\\right)(\\delta_{i_i,j_j}+\\delta_{i_j,j_i})+ \\sum_k\\left(\\delta_{i_i\\in I_k}\\delta_{j_j\\in I_k}\\delta_{i_i<j_j} + \\delta_{i_j\\in I_k}\\delta_{j_i\\in I_k}\\delta_{i_j<j_i}\\right)\\right)-\\dfrac{1}{2d_{\\max}}l_i$"
   ]
  },
  {
   "cell_type": "code",
   "execution_count": 12,
   "metadata": {},
   "outputs": [
    {
     "name": "stdout",
     "output_type": "stream",
     "text": "{1: -12.0, 2: -15.5, 3: -16.0, 4: -15.0, 5: -15.5, 6: -13.0}\n"
    }
   ],
   "source": [
    "# partial magnet fields\n",
    "h_delay = { alpha : -1/2 * delta_d * l(alpha) for alpha in range(1, N+1) }\n",
    "h_encoding = { alpha : 2 * lambda_encoding * \n",
    "              sum([-1/4 * (1 - 2 * N_f / N ) * delta(i(alpha), i(beta)) for beta in range(1, N+1)])\n",
    "              for alpha in range(1, N+1) }\n",
    "h_conflict = { alpha : lambda_conflict * (-1/4 * sum([1 \n",
    "                                                     for beta in range(1, N+1)\n",
    "                                                     for k in range(len(Ik))\n",
    "                                                     if ((i(alpha) < i(beta)) and\n",
    "                                                     (True if i(alpha) in list(Ik.keys())[k] else False) and\n",
    "                                                     (True if i(beta) in list(Ik.keys())[k] else False) and\n",
    "                                                     in_range((l(alpha) - l(beta)) * delta_d, list(Ik.values())[k]))]) +\n",
    "                                          -1/4 * sum([1\n",
    "                                                     for beta in range(1, N+1)\n",
    "                                                     for k in range(len(Ik)) \n",
    "                                                     if ((i(beta) < i(alpha)) and\n",
    "                                                     (True if i(alpha) in list(Ik.keys())[k] else False) and\n",
    "                                                     (True if i(beta) in list(Ik.keys())[k] else False) and\n",
    "                                                     in_range((l(beta) - l(alpha)) * delta_d, list(Ik.values())[k]))]))\n",
    "              for alpha in range(1, N+1) }\n",
    "\n",
    "# fuse magnet fields\n",
    "h = { alpha : h_delay[alpha] + \n",
    "              h_encoding[alpha] + \n",
    "              h_conflict[alpha] for alpha in range(1, N+1) }\n",
    "h = { k:v for k,v in h.items() if v != 0 }\n",
    "pp.pprint(h)"
   ]
  },
  {
   "cell_type": "markdown",
   "metadata": {},
   "source": [
    "### Creating the Couplings J"
   ]
  },
  {
   "cell_type": "markdown",
   "metadata": {},
   "source": [
    "$J_{i,j} = \\dfrac{1}{4}\\delta_{i_m,j_n} + \\dfrac{1}{4}\\delta_{i_m\\in I_k}\\delta_{j_n\\in I_k}\\delta_{i_m<j_n}$"
   ]
  },
  {
   "cell_type": "code",
   "execution_count": 13,
   "metadata": {},
   "outputs": [
    {
     "name": "stdout",
     "output_type": "stream",
     "text": "{   (1, 2): 6.0,\n    (1, 3): 6.0,\n    (1, 4): 3.0,\n    (1, 5): 3.0,\n    (2, 3): 6.0,\n    (2, 4): 3.0,\n    (2, 5): 3.0,\n    (2, 6): 3.0,\n    (3, 4): 3.0,\n    (3, 5): 3.0,\n    (3, 6): 3.0,\n    (4, 5): 6.0,\n    (4, 6): 6.0,\n    (5, 6): 6.0}\n"
    }
   ],
   "source": [
    "# partial couplings\n",
    "J_delay = {}\n",
    "J_encoding = { (alpha, beta) : 2 * 1/4 * lambda_encoding * delta(i(alpha), i(beta))\n",
    "             for alpha in range(1, N+1)\n",
    "             for beta in range(1, N+1) \n",
    "             if alpha < beta}\n",
    "J_conflict = { (alpha, beta) : 1/4 * lambda_conflict * (sum([1 for k in range(len(Ik)) \n",
    "                                                            if (i(alpha) < i(beta)) and\n",
    "                                                            (True if i(alpha) in list(Ik.keys())[k] else False) and\n",
    "                                                            (True if i(beta) in list(Ik.keys())[k] else False) and\n",
    "                                                            (in_range((l(alpha) - l(beta)) * delta_d, list(Ik.values())[k]))]))\n",
    "             for alpha in range(1, N+1)\n",
    "             for beta in range(1, N+1) \n",
    "             if alpha != beta }\n",
    "\n",
    "# fusing the partial couplings\n",
    "J = { (alpha, beta) : (J_delay[(alpha, beta)] if (alpha, beta) in J_delay.keys() else 0) + \n",
    "                      (J_encoding[(alpha, beta)] if (alpha, beta) in J_encoding.keys() else 0) +\n",
    "                      (J_conflict[(alpha, beta)] if (alpha, beta) in J_conflict.keys() else 0)\n",
    "     for alpha in range(1, N+1)\n",
    "     for beta in range(1, N+1)\n",
    "    }\n",
    "J = { k:v for k,v in J.items() if v != 0 }\n",
    "pp.pprint(J)"
   ]
  },
  {
   "cell_type": "markdown",
   "metadata": {},
   "source": [
    "### Creating the Hamiltonian and preparing it for Qiskit algorithms"
   ]
  },
  {
   "cell_type": "code",
   "execution_count": 20,
   "metadata": {},
   "outputs": [],
   "source": [
    "ham = ising(J = J, h = h, nbr_qubits = nbr_qubits)\n",
    "# pp.pprint(ham)\n",
    "# builtin qiskit function\n",
    "op = Operator(ham)"
   ]
  },
  {
   "cell_type": "markdown",
   "metadata": {},
   "source": [
    "### Calculate the solution using a classical eigensolver"
   ]
  },
  {
   "cell_type": "code",
   "execution_count": 21,
   "metadata": {},
   "outputs": [
    {
     "name": "stdout",
     "output_type": "stream",
     "text": "--constants:--\nN_f: 2\nN_d: 2\nN: 6\nqubits:  6\ndmax: 2\ndelta_d: 1\n\n--conflicts:--\nflights:  (1, 2) Bk: (-1, 2)\n\n--ee solution: 100001 (position 34)--\nflight: 1 | delay: 0 | m = 1 \nflight: 2 | delay: 2 | m = 6 \n\n\n--raw output of ee solver--\n{   'eigvals': array([-49.+0.j]),\n    'eigvecs': array([[0., 0., 0., 0., 0., 0., 0., 0., 0., 0., 0., 0., 0., 0., 0., 0.,\n        0., 0., 0., 0., 0., 0., 0., 0., 0., 0., 0., 0., 0., 0., 0., 0.,\n        0., 1., 0., 0., 0., 0., 0., 0., 0., 0., 0., 0., 0., 0., 0., 0.,\n        0., 0., 0., 0., 0., 0., 0., 0., 0., 0., 0., 0., 0., 0., 0., 0.]]),\n    'energies': array([-49.]),\n    'energy': -49.0,\n    'wavefunction': array([[0., 0., 0., 0., 0., 0., 0., 0., 0., 0., 0., 0., 0., 0., 0., 0.,\n        0., 0., 0., 0., 0., 0., 0., 0., 0., 0., 0., 0., 0., 0., 0., 0.,\n        0., 1., 0., 0., 0., 0., 0., 0., 0., 0., 0., 0., 0., 0., 0., 0.,\n        0., 0., 0., 0., 0., 0., 0., 0., 0., 0., 0., 0., 0., 0., 0., 0.]])}\n"
    }
   ],
   "source": [
    "# ee solver\n",
    "eig = ExactEigensolver(op)\n",
    "result = eig.run()\n",
    "output = {}\n",
    "\n",
    "# debugging\n",
    "print(\"--constants:--\")\n",
    "print(\"N_f:\", N_f)\n",
    "print(\"N_d:\", N_d)\n",
    "print(\"N:\", N)\n",
    "print(\"qubits: \", nbr_qubits)\n",
    "print(\"dmax:\", dmax)\n",
    "print(\"delta_d:\", delta_d)\n",
    "\n",
    "print(\"\")\n",
    "\n",
    "print(\"--conflicts:--\")\n",
    "for item,bk in Ik.items():\n",
    "    print(\"flights: \", item, \"Bk:\", bk)\n",
    "print(\"\")\n",
    "\n",
    "ee = np.where(result[\"eigvecs\"][0] == 1)\n",
    "m =ee[0][0] +1\n",
    "bit = \"{0:b}\".format(ee[0][0])\n",
    "for item in range(nbr_qubits - len(bit)):\n",
    "    bit = \"0\" + bit\n",
    "print(\"--ee solution: \" + bit + \" (position \" + str(m) + \")--\")\n",
    "\n",
    "for index,m in enumerate(bit[::-1]):\n",
    "    alpha = index+1\n",
    "    if m == \"1\":\n",
    "        print(\"flight:\",int(i(alpha)),\"| delay:\",l(alpha)*delta_d,\"| m =\",alpha,['',\" --> ERROR\"][int(i(alpha)) in output])\n",
    "        output[int(i(alpha))] = l(alpha)*delta_d\n",
    "print(\"\")\n",
    "\n",
    "for item,bk in Ik.items():\n",
    "    if bk[0] <= output[item[0]]-output[item[1]] <= bk[1]:\n",
    "        print(\"solultion for\",item, \"(di-dj:\",output[item[0]]-output[item[1]],\") is conflicting: element in bk:\",bk[0],\"<=\",output[item[0]]-output[item[1]],\"<=\",bk[1])\n",
    "\n",
    "print(\"\")\n",
    "\n",
    "print(\"--raw output of ee solver--\")\n",
    "pp.pprint(result)\n",
    "\n",
    "# visualize m\n",
    "# n = 1 \n",
    "# a = np.zeros(shape=(N_f,N_d+1))\n",
    "# for index,row in enumerate(a):\n",
    "#     for s in range(0,len(a[index])):\n",
    "#         a[index][s] = n\n",
    "#         n += 1\n",
    "\n",
    "# plt.figure(figsize=(5,5))\n",
    "# plt.title(\"m Matrix\")\n",
    "# tb = plt.table(cellText=a, loc=(0,0), cellLoc='center',colLabels=[n for n in range(0,delta_d,N_d)],rowLabels=[n for n in range(1,N_f+1)])\n",
    "\n",
    "# tc = tb.properties()['child_artists']\n",
    "# for cell in tc: \n",
    "#     cell.set_height(.4/N_f)\n",
    "#     cell.set_width(.4/N_d)\n",
    "\n",
    "# for cell in tc:\n",
    "#     print(cell)\n",
    "    \n",
    "# for (row,col), cell in tb.get_celld().items():\n",
    "#     if (row == 0) or (col == -1):\n",
    "#         cell.set_linewidth(0)\n",
    "#         cell.set_text_props(fontproperties=FontProperties(weight='bold'))\n",
    "\n",
    "# ax = plt.gca()\n",
    "# ax.set_xticks([])\n",
    "# ax.set_yticks([])\n",
    "# # ax.axis('off')\n",
    "\n",
    "# ax.spines[\"top\"].set_visible(False)\n",
    "# ax.spines[\"right\"].set_visible(False)\n",
    "# ax.spines[\"left\"].set_visible(False)\n",
    "# ax.spines[\"bottom\"].set_visible(False)\n",
    "\n",
    "# plt.ylabel('flights i')\n",
    "# plt.xlabel('delay step d')\n"
   ]
  },
  {
   "cell_type": "markdown",
   "metadata": {},
   "source": [
    "### Calculate the solution using given quantum algorithm on IBM Q"
   ]
  },
  {
   "cell_type": "code",
   "execution_count": 25,
   "metadata": {},
   "outputs": [],
   "source": [
    "# TODO: Optimize Algorithms\n",
    "\n",
    "# comment if you do not want to use VQE\n",
    "optimizer = SPSA(max_trials=500)\n",
    "q = VQE(op, optimizer = optimizer, var_form = RYRZ(nbr_qubits))\n",
    "\n",
    "# the algorithm below is faster but may not be accurate for sizes > 4 qubit in its current state\n",
    "# optimizer = COBYLA(maxiter = 100)\n",
    "# q = VQE(op, optimizer = optimizer, var_form = RYRZ(nbr_qubits), operator_mode = 'paulis')\n",
    "\n",
    "# uncomment if you want to use QAOA instead\n",
    "# optimizer = COBYLA(maxiter = 10)\n",
    "# depth = 2\n",
    "# q = QAOA(op, optimizer, p = depth, operator_mode = 'paulis')\n",
    "\n",
    "# calculate the problem\n",
    "results = q.run(localsim) # options: localsim,onlinesim,largebackend,least_busy\n",
    "\n",
    "# Sometimes results are not correct and it may needs to calculate the problem several times\n",
    "# iterations = 10 # change this for how often the problem is calculated\n",
    "# result_collection = []\n",
    "# highest = []\n",
    "# result_collection = {}\n",
    "# for n in range(iterations):\n",
    "#     print(n+1,\". calculation\")\n",
    "#     results = q.run(localsim) # options: localsim,onlinesim,largebackend,least_busy\n",
    "#     result_collection[n+1] = results\n",
    "#     highest.append(max(results[\"eigvecs\"][0].keys(), key=(lambda key: results[\"eigvecs\"][0][key])))\n",
    "\n",
    "# print(\"- done -\")"
   ]
  },
  {
   "cell_type": "markdown",
   "metadata": {},
   "source": [
    "### Plot the Results"
   ]
  },
  {
   "cell_type": "code",
   "execution_count": 26,
   "metadata": {},
   "outputs": [
    {
     "data": {
      "image/png": "[encoded data removed]",
      "image/svg+xml": "<?xml version=\"1.0\" encoding=\"utf-8\" standalone=\"no\"?>\n<!DOCTYPE svg PUBLIC \"-//W3C//DTD SVG 1.1//EN\"\n  \"http://www.w3.org/Graphics/SVG/1.1/DTD/svg11.dtd\">\n<!-- Created with matplotlib (https://matplotlib.org/) -->\n<svg height=\"353.374938pt\" version=\"1.1\" viewBox=\"0 0 1074.52125 353.374938\" width=\"1074.52125pt\" xmlns=\"http://www.w3.org/2000/svg\" xmlns:xlink=\"http://www.w3.org/1999/xlink\">\n <defs>\n  <style type=\"text/css\">\n*{stroke-linecap:butt;stroke-linejoin:round;}\n  </style>\n </defs>\n <g id=\"figure_1\">\n  <g id=\"patch_1\">\n   <path d=\"M 0 353.374938 \nL 1074.52125 353.374938 \nL 1074.52125 0 \nL 0 0 \nz\n\" style=\"fill:none;\"/>\n  </g>\n  <g id=\"axes_1\">\n   <g id=\"patch_2\">\n    <path d=\"M 62.92125 284.318906 \nL 1067.32125 284.318906 \nL 1067.32125 12.518906 \nL 62.92125 12.518906 \nz\n\" style=\"fill:#ffffff;\"/>\n   </g>\n   <g id=\"matplotlib.axis_1\">\n    <g id=\"xtick_1\">\n     <g id=\"line2d_1\">\n      <defs>\n       <path d=\"M 0 0 \nL 0 3.5 \n\" id=\"m19311922ec\" style=\"stroke:#000000;stroke-width:0.8;\"/>\n      </defs>\n      <g>\n       <use style=\"stroke:#000000;stroke-width:0.8;\" x=\"132.604504\" xlink:href=\"#m19311922ec\" y=\"284.318906\"/>\n      </g>\n     </g>\n     <g id=\"text_1\">\n      <!-- 000000 -->\n      <defs>\n       <path d=\"M 31.78125 66.40625 \nQ 24.171875 66.40625 20.328125 58.90625 \nQ 16.5 51.421875 16.5 36.375 \nQ 16.5 21.390625 20.328125 13.890625 \nQ 24.171875 6.390625 31.78125 6.390625 \nQ 39.453125 6.390625 43.28125 13.890625 \nQ 47.125 21.390625 47.125 36.375 \nQ 47.125 51.421875 43.28125 58.90625 \nQ 39.453125 66.40625 31.78125 66.40625 \nz\nM 31.78125 74.21875 \nQ 44.046875 74.21875 50.515625 64.515625 \nQ 56.984375 54.828125 56.984375 36.375 \nQ 56.984375 17.96875 50.515625 8.265625 \nQ 44.046875 -1.421875 31.78125 -1.421875 \nQ 19.53125 -1.421875 13.0625 8.265625 \nQ 6.59375 17.96875 6.59375 36.375 \nQ 6.59375 54.828125 13.0625 64.515625 \nQ 19.53125 74.21875 31.78125 74.21875 \nz\n\" id=\"DejaVuSans-48\"/>\n      </defs>\n      <g transform=\"translate(127.09502 345.179125)rotate(-70)scale(0.14 -0.14)\">\n       <use xlink:href=\"#DejaVuSans-48\"/>\n       <use x=\"63.623047\" xlink:href=\"#DejaVuSans-48\"/>\n       <use x=\"127.246094\" xlink:href=\"#DejaVuSans-48\"/>\n       <use x=\"190.869141\" xlink:href=\"#DejaVuSans-48\"/>\n       <use x=\"254.492188\" xlink:href=\"#DejaVuSans-48\"/>\n       <use x=\"318.115234\" xlink:href=\"#DejaVuSans-48\"/>\n      </g>\n     </g>\n    </g>\n    <g id=\"xtick_2\">\n     <g id=\"line2d_2\">\n      <g>\n       <use style=\"stroke:#000000;stroke-width:0.8;\" x=\"228.719336\" xlink:href=\"#m19311922ec\" y=\"284.318906\"/>\n      </g>\n     </g>\n     <g id=\"text_2\">\n      <!-- 000001 -->\n      <defs>\n       <path d=\"M 12.40625 8.296875 \nL 28.515625 8.296875 \nL 28.515625 63.921875 \nL 10.984375 60.40625 \nL 10.984375 69.390625 \nL 28.421875 72.90625 \nL 38.28125 72.90625 \nL 38.28125 8.296875 \nL 54.390625 8.296875 \nL 54.390625 0 \nL 12.40625 0 \nz\n\" id=\"DejaVuSans-49\"/>\n      </defs>\n      <g transform=\"translate(223.209853 345.179125)rotate(-70)scale(0.14 -0.14)\">\n       <use xlink:href=\"#DejaVuSans-48\"/>\n       <use x=\"63.623047\" xlink:href=\"#DejaVuSans-48\"/>\n       <use x=\"127.246094\" xlink:href=\"#DejaVuSans-48\"/>\n       <use x=\"190.869141\" xlink:href=\"#DejaVuSans-48\"/>\n       <use x=\"254.492188\" xlink:href=\"#DejaVuSans-48\"/>\n       <use x=\"318.115234\" xlink:href=\"#DejaVuSans-49\"/>\n      </g>\n     </g>\n    </g>\n    <g id=\"xtick_3\">\n     <g id=\"line2d_3\">\n      <g>\n       <use style=\"stroke:#000000;stroke-width:0.8;\" x=\"324.834169\" xlink:href=\"#m19311922ec\" y=\"284.318906\"/>\n      </g>\n     </g>\n     <g id=\"text_3\">\n      <!-- 000010 -->\n      <g transform=\"translate(319.324685 345.179125)rotate(-70)scale(0.14 -0.14)\">\n       <use xlink:href=\"#DejaVuSans-48\"/>\n       <use x=\"63.623047\" xlink:href=\"#DejaVuSans-48\"/>\n       <use x=\"127.246094\" xlink:href=\"#DejaVuSans-48\"/>\n       <use x=\"190.869141\" xlink:href=\"#DejaVuSans-48\"/>\n       <use x=\"254.492188\" xlink:href=\"#DejaVuSans-49\"/>\n       <use x=\"318.115234\" xlink:href=\"#DejaVuSans-48\"/>\n      </g>\n     </g>\n    </g>\n    <g id=\"xtick_4\">\n     <g id=\"line2d_4\">\n      <g>\n       <use style=\"stroke:#000000;stroke-width:0.8;\" x=\"420.949001\" xlink:href=\"#m19311922ec\" y=\"284.318906\"/>\n      </g>\n     </g>\n     <g id=\"text_4\">\n      <!-- 000011 -->\n      <g transform=\"translate(415.439518 345.179125)rotate(-70)scale(0.14 -0.14)\">\n       <use xlink:href=\"#DejaVuSans-48\"/>\n       <use x=\"63.623047\" xlink:href=\"#DejaVuSans-48\"/>\n       <use x=\"127.246094\" xlink:href=\"#DejaVuSans-48\"/>\n       <use x=\"190.869141\" xlink:href=\"#DejaVuSans-48\"/>\n       <use x=\"254.492188\" xlink:href=\"#DejaVuSans-49\"/>\n       <use x=\"318.115234\" xlink:href=\"#DejaVuSans-49\"/>\n      </g>\n     </g>\n    </g>\n    <g id=\"xtick_5\">\n     <g id=\"line2d_5\">\n      <g>\n       <use style=\"stroke:#000000;stroke-width:0.8;\" x=\"517.063834\" xlink:href=\"#m19311922ec\" y=\"284.318906\"/>\n      </g>\n     </g>\n     <g id=\"text_5\">\n      <!-- 001010 -->\n      <g transform=\"translate(511.554351 345.179125)rotate(-70)scale(0.14 -0.14)\">\n       <use xlink:href=\"#DejaVuSans-48\"/>\n       <use x=\"63.623047\" xlink:href=\"#DejaVuSans-48\"/>\n       <use x=\"127.246094\" xlink:href=\"#DejaVuSans-49\"/>\n       <use x=\"190.869141\" xlink:href=\"#DejaVuSans-48\"/>\n       <use x=\"254.492188\" xlink:href=\"#DejaVuSans-49\"/>\n       <use x=\"318.115234\" xlink:href=\"#DejaVuSans-48\"/>\n      </g>\n     </g>\n    </g>\n    <g id=\"xtick_6\">\n     <g id=\"line2d_6\">\n      <g>\n       <use style=\"stroke:#000000;stroke-width:0.8;\" x=\"613.178666\" xlink:href=\"#m19311922ec\" y=\"284.318906\"/>\n      </g>\n     </g>\n     <g id=\"text_6\">\n      <!-- 100000 -->\n      <g transform=\"translate(607.669183 345.179125)rotate(-70)scale(0.14 -0.14)\">\n       <use xlink:href=\"#DejaVuSans-49\"/>\n       <use x=\"63.623047\" xlink:href=\"#DejaVuSans-48\"/>\n       <use x=\"127.246094\" xlink:href=\"#DejaVuSans-48\"/>\n       <use x=\"190.869141\" xlink:href=\"#DejaVuSans-48\"/>\n       <use x=\"254.492188\" xlink:href=\"#DejaVuSans-48\"/>\n       <use x=\"318.115234\" xlink:href=\"#DejaVuSans-48\"/>\n      </g>\n     </g>\n    </g>\n    <g id=\"xtick_7\">\n     <g id=\"line2d_7\">\n      <g>\n       <use style=\"stroke:#000000;stroke-width:0.8;\" x=\"709.293499\" xlink:href=\"#m19311922ec\" y=\"284.318906\"/>\n      </g>\n     </g>\n     <g id=\"text_7\">\n      <!-- 100001 -->\n      <g transform=\"translate(703.784016 345.179125)rotate(-70)scale(0.14 -0.14)\">\n       <use xlink:href=\"#DejaVuSans-49\"/>\n       <use x=\"63.623047\" xlink:href=\"#DejaVuSans-48\"/>\n       <use x=\"127.246094\" xlink:href=\"#DejaVuSans-48\"/>\n       <use x=\"190.869141\" xlink:href=\"#DejaVuSans-48\"/>\n       <use x=\"254.492188\" xlink:href=\"#DejaVuSans-48\"/>\n       <use x=\"318.115234\" xlink:href=\"#DejaVuSans-49\"/>\n      </g>\n     </g>\n    </g>\n    <g id=\"xtick_8\">\n     <g id=\"line2d_8\">\n      <g>\n       <use style=\"stroke:#000000;stroke-width:0.8;\" x=\"805.408331\" xlink:href=\"#m19311922ec\" y=\"284.318906\"/>\n      </g>\n     </g>\n     <g id=\"text_8\">\n      <!-- 100010 -->\n      <g transform=\"translate(799.898848 345.179125)rotate(-70)scale(0.14 -0.14)\">\n       <use xlink:href=\"#DejaVuSans-49\"/>\n       <use x=\"63.623047\" xlink:href=\"#DejaVuSans-48\"/>\n       <use x=\"127.246094\" xlink:href=\"#DejaVuSans-48\"/>\n       <use x=\"190.869141\" xlink:href=\"#DejaVuSans-48\"/>\n       <use x=\"254.492188\" xlink:href=\"#DejaVuSans-49\"/>\n       <use x=\"318.115234\" xlink:href=\"#DejaVuSans-48\"/>\n      </g>\n     </g>\n    </g>\n    <g id=\"xtick_9\">\n     <g id=\"line2d_9\">\n      <g>\n       <use style=\"stroke:#000000;stroke-width:0.8;\" x=\"901.523164\" xlink:href=\"#m19311922ec\" y=\"284.318906\"/>\n      </g>\n     </g>\n     <g id=\"text_9\">\n      <!-- 100110 -->\n      <g transform=\"translate(896.013681 345.179125)rotate(-70)scale(0.14 -0.14)\">\n       <use xlink:href=\"#DejaVuSans-49\"/>\n       <use x=\"63.623047\" xlink:href=\"#DejaVuSans-48\"/>\n       <use x=\"127.246094\" xlink:href=\"#DejaVuSans-48\"/>\n       <use x=\"190.869141\" xlink:href=\"#DejaVuSans-49\"/>\n       <use x=\"254.492188\" xlink:href=\"#DejaVuSans-49\"/>\n       <use x=\"318.115234\" xlink:href=\"#DejaVuSans-48\"/>\n      </g>\n     </g>\n    </g>\n    <g id=\"xtick_10\">\n     <g id=\"line2d_10\">\n      <g>\n       <use style=\"stroke:#000000;stroke-width:0.8;\" x=\"997.637996\" xlink:href=\"#m19311922ec\" y=\"284.318906\"/>\n      </g>\n     </g>\n     <g id=\"text_10\">\n      <!-- 101000 -->\n      <g transform=\"translate(992.128513 345.179125)rotate(-70)scale(0.14 -0.14)\">\n       <use xlink:href=\"#DejaVuSans-49\"/>\n       <use x=\"63.623047\" xlink:href=\"#DejaVuSans-48\"/>\n       <use x=\"127.246094\" xlink:href=\"#DejaVuSans-49\"/>\n       <use x=\"190.869141\" xlink:href=\"#DejaVuSans-48\"/>\n       <use x=\"254.492188\" xlink:href=\"#DejaVuSans-48\"/>\n       <use x=\"318.115234\" xlink:href=\"#DejaVuSans-48\"/>\n      </g>\n     </g>\n    </g>\n   </g>\n   <g id=\"matplotlib.axis_2\">\n    <g id=\"ytick_1\">\n     <g id=\"line2d_11\">\n      <path clip-path=\"url(#pee571851a0)\" d=\"M 62.92125 284.318906 \nL 1067.32125 284.318906 \n\" style=\"fill:none;stroke:#b0b0b0;stroke-dasharray:2.96,1.28;stroke-dashoffset:0;stroke-width:0.8;\"/>\n     </g>\n     <g id=\"line2d_12\">\n      <defs>\n       <path d=\"M 0 0 \nL -3.5 0 \n\" id=\"mda7bc627b8\" style=\"stroke:#000000;stroke-width:0.8;\"/>\n      </defs>\n      <g>\n       <use style=\"stroke:#000000;stroke-width:0.8;\" x=\"62.92125\" xlink:href=\"#mda7bc627b8\" y=\"284.318906\"/>\n      </g>\n     </g>\n     <g id=\"text_11\">\n      <!-- 0.00 -->\n      <defs>\n       <path d=\"M 10.6875 12.40625 \nL 21 12.40625 \nL 21 0 \nL 10.6875 0 \nz\n\" id=\"DejaVuSans-46\"/>\n      </defs>\n      <g transform=\"translate(24.749375 289.637812)scale(0.14 -0.14)\">\n       <use xlink:href=\"#DejaVuSans-48\"/>\n       <use x=\"63.623047\" xlink:href=\"#DejaVuSans-46\"/>\n       <use x=\"95.410156\" xlink:href=\"#DejaVuSans-48\"/>\n       <use x=\"159.033203\" xlink:href=\"#DejaVuSans-48\"/>\n      </g>\n     </g>\n    </g>\n    <g id=\"ytick_2\">\n     <g id=\"line2d_13\">\n      <path clip-path=\"url(#pee571851a0)\" d=\"M 62.92125 229.958906 \nL 1067.32125 229.958906 \n\" style=\"fill:none;stroke:#b0b0b0;stroke-dasharray:2.96,1.28;stroke-dashoffset:0;stroke-width:0.8;\"/>\n     </g>\n     <g id=\"line2d_14\">\n      <g>\n       <use style=\"stroke:#000000;stroke-width:0.8;\" x=\"62.92125\" xlink:href=\"#mda7bc627b8\" y=\"229.958906\"/>\n      </g>\n     </g>\n     <g id=\"text_12\">\n      <!-- 0.15 -->\n      <defs>\n       <path d=\"M 10.796875 72.90625 \nL 49.515625 72.90625 \nL 49.515625 64.59375 \nL 19.828125 64.59375 \nL 19.828125 46.734375 \nQ 21.96875 47.46875 24.109375 47.828125 \nQ 26.265625 48.1875 28.421875 48.1875 \nQ 40.625 48.1875 47.75 41.5 \nQ 54.890625 34.8125 54.890625 23.390625 \nQ 54.890625 11.625 47.5625 5.09375 \nQ 40.234375 -1.421875 26.90625 -1.421875 \nQ 22.3125 -1.421875 17.546875 -0.640625 \nQ 12.796875 0.140625 7.71875 1.703125 \nL 7.71875 11.625 \nQ 12.109375 9.234375 16.796875 8.0625 \nQ 21.484375 6.890625 26.703125 6.890625 \nQ 35.15625 6.890625 40.078125 11.328125 \nQ 45.015625 15.765625 45.015625 23.390625 \nQ 45.015625 31 40.078125 35.4375 \nQ 35.15625 39.890625 26.703125 39.890625 \nQ 22.75 39.890625 18.8125 39.015625 \nQ 14.890625 38.140625 10.796875 36.28125 \nz\n\" id=\"DejaVuSans-53\"/>\n      </defs>\n      <g transform=\"translate(24.749375 235.277812)scale(0.14 -0.14)\">\n       <use xlink:href=\"#DejaVuSans-48\"/>\n       <use x=\"63.623047\" xlink:href=\"#DejaVuSans-46\"/>\n       <use x=\"95.410156\" xlink:href=\"#DejaVuSans-49\"/>\n       <use x=\"159.033203\" xlink:href=\"#DejaVuSans-53\"/>\n      </g>\n     </g>\n    </g>\n    <g id=\"ytick_3\">\n     <g id=\"line2d_15\">\n      <path clip-path=\"url(#pee571851a0)\" d=\"M 62.92125 175.598906 \nL 1067.32125 175.598906 \n\" style=\"fill:none;stroke:#b0b0b0;stroke-dasharray:2.96,1.28;stroke-dashoffset:0;stroke-width:0.8;\"/>\n     </g>\n     <g id=\"line2d_16\">\n      <g>\n       <use style=\"stroke:#000000;stroke-width:0.8;\" x=\"62.92125\" xlink:href=\"#mda7bc627b8\" y=\"175.598906\"/>\n      </g>\n     </g>\n     <g id=\"text_13\">\n      <!-- 0.30 -->\n      <defs>\n       <path d=\"M 40.578125 39.3125 \nQ 47.65625 37.796875 51.625 33 \nQ 55.609375 28.21875 55.609375 21.1875 \nQ 55.609375 10.40625 48.1875 4.484375 \nQ 40.765625 -1.421875 27.09375 -1.421875 \nQ 22.515625 -1.421875 17.65625 -0.515625 \nQ 12.796875 0.390625 7.625 2.203125 \nL 7.625 11.71875 \nQ 11.71875 9.328125 16.59375 8.109375 \nQ 21.484375 6.890625 26.8125 6.890625 \nQ 36.078125 6.890625 40.9375 10.546875 \nQ 45.796875 14.203125 45.796875 21.1875 \nQ 45.796875 27.640625 41.28125 31.265625 \nQ 36.765625 34.90625 28.71875 34.90625 \nL 20.21875 34.90625 \nL 20.21875 43.015625 \nL 29.109375 43.015625 \nQ 36.375 43.015625 40.234375 45.921875 \nQ 44.09375 48.828125 44.09375 54.296875 \nQ 44.09375 59.90625 40.109375 62.90625 \nQ 36.140625 65.921875 28.71875 65.921875 \nQ 24.65625 65.921875 20.015625 65.03125 \nQ 15.375 64.15625 9.8125 62.3125 \nL 9.8125 71.09375 \nQ 15.4375 72.65625 20.34375 73.4375 \nQ 25.25 74.21875 29.59375 74.21875 \nQ 40.828125 74.21875 47.359375 69.109375 \nQ 53.90625 64.015625 53.90625 55.328125 \nQ 53.90625 49.265625 50.4375 45.09375 \nQ 46.96875 40.921875 40.578125 39.3125 \nz\n\" id=\"DejaVuSans-51\"/>\n      </defs>\n      <g transform=\"translate(24.749375 180.917812)scale(0.14 -0.14)\">\n       <use xlink:href=\"#DejaVuSans-48\"/>\n       <use x=\"63.623047\" xlink:href=\"#DejaVuSans-46\"/>\n       <use x=\"95.410156\" xlink:href=\"#DejaVuSans-51\"/>\n       <use x=\"159.033203\" xlink:href=\"#DejaVuSans-48\"/>\n      </g>\n     </g>\n    </g>\n    <g id=\"ytick_4\">\n     <g id=\"line2d_17\">\n      <path clip-path=\"url(#pee571851a0)\" d=\"M 62.92125 121.238906 \nL 1067.32125 121.238906 \n\" style=\"fill:none;stroke:#b0b0b0;stroke-dasharray:2.96,1.28;stroke-dashoffset:0;stroke-width:0.8;\"/>\n     </g>\n     <g id=\"line2d_18\">\n      <g>\n       <use style=\"stroke:#000000;stroke-width:0.8;\" x=\"62.92125\" xlink:href=\"#mda7bc627b8\" y=\"121.238906\"/>\n      </g>\n     </g>\n     <g id=\"text_14\">\n      <!-- 0.45 -->\n      <defs>\n       <path d=\"M 37.796875 64.3125 \nL 12.890625 25.390625 \nL 37.796875 25.390625 \nz\nM 35.203125 72.90625 \nL 47.609375 72.90625 \nL 47.609375 25.390625 \nL 58.015625 25.390625 \nL 58.015625 17.1875 \nL 47.609375 17.1875 \nL 47.609375 0 \nL 37.796875 0 \nL 37.796875 17.1875 \nL 4.890625 17.1875 \nL 4.890625 26.703125 \nz\n\" id=\"DejaVuSans-52\"/>\n      </defs>\n      <g transform=\"translate(24.749375 126.557812)scale(0.14 -0.14)\">\n       <use xlink:href=\"#DejaVuSans-48\"/>\n       <use x=\"63.623047\" xlink:href=\"#DejaVuSans-46\"/>\n       <use x=\"95.410156\" xlink:href=\"#DejaVuSans-52\"/>\n       <use x=\"159.033203\" xlink:href=\"#DejaVuSans-53\"/>\n      </g>\n     </g>\n    </g>\n    <g id=\"ytick_5\">\n     <g id=\"line2d_19\">\n      <path clip-path=\"url(#pee571851a0)\" d=\"M 62.92125 66.878906 \nL 1067.32125 66.878906 \n\" style=\"fill:none;stroke:#b0b0b0;stroke-dasharray:2.96,1.28;stroke-dashoffset:0;stroke-width:0.8;\"/>\n     </g>\n     <g id=\"line2d_20\">\n      <g>\n       <use style=\"stroke:#000000;stroke-width:0.8;\" x=\"62.92125\" xlink:href=\"#mda7bc627b8\" y=\"66.878906\"/>\n      </g>\n     </g>\n     <g id=\"text_15\">\n      <!-- 0.60 -->\n      <defs>\n       <path d=\"M 33.015625 40.375 \nQ 26.375 40.375 22.484375 35.828125 \nQ 18.609375 31.296875 18.609375 23.390625 \nQ 18.609375 15.53125 22.484375 10.953125 \nQ 26.375 6.390625 33.015625 6.390625 \nQ 39.65625 6.390625 43.53125 10.953125 \nQ 47.40625 15.53125 47.40625 23.390625 \nQ 47.40625 31.296875 43.53125 35.828125 \nQ 39.65625 40.375 33.015625 40.375 \nz\nM 52.59375 71.296875 \nL 52.59375 62.3125 \nQ 48.875 64.0625 45.09375 64.984375 \nQ 41.3125 65.921875 37.59375 65.921875 \nQ 27.828125 65.921875 22.671875 59.328125 \nQ 17.53125 52.734375 16.796875 39.40625 \nQ 19.671875 43.65625 24.015625 45.921875 \nQ 28.375 48.1875 33.59375 48.1875 \nQ 44.578125 48.1875 50.953125 41.515625 \nQ 57.328125 34.859375 57.328125 23.390625 \nQ 57.328125 12.15625 50.6875 5.359375 \nQ 44.046875 -1.421875 33.015625 -1.421875 \nQ 20.359375 -1.421875 13.671875 8.265625 \nQ 6.984375 17.96875 6.984375 36.375 \nQ 6.984375 53.65625 15.1875 63.9375 \nQ 23.390625 74.21875 37.203125 74.21875 \nQ 40.921875 74.21875 44.703125 73.484375 \nQ 48.484375 72.75 52.59375 71.296875 \nz\n\" id=\"DejaVuSans-54\"/>\n      </defs>\n      <g transform=\"translate(24.749375 72.197812)scale(0.14 -0.14)\">\n       <use xlink:href=\"#DejaVuSans-48\"/>\n       <use x=\"63.623047\" xlink:href=\"#DejaVuSans-46\"/>\n       <use x=\"95.410156\" xlink:href=\"#DejaVuSans-54\"/>\n       <use x=\"159.033203\" xlink:href=\"#DejaVuSans-48\"/>\n      </g>\n     </g>\n    </g>\n    <g id=\"ytick_6\">\n     <g id=\"line2d_21\">\n      <path clip-path=\"url(#pee571851a0)\" d=\"M 62.92125 12.518906 \nL 1067.32125 12.518906 \n\" style=\"fill:none;stroke:#b0b0b0;stroke-dasharray:2.96,1.28;stroke-dashoffset:0;stroke-width:0.8;\"/>\n     </g>\n     <g id=\"line2d_22\">\n      <g>\n       <use style=\"stroke:#000000;stroke-width:0.8;\" x=\"62.92125\" xlink:href=\"#mda7bc627b8\" y=\"12.518906\"/>\n      </g>\n     </g>\n     <g id=\"text_16\">\n      <!-- 0.75 -->\n      <defs>\n       <path d=\"M 8.203125 72.90625 \nL 55.078125 72.90625 \nL 55.078125 68.703125 \nL 28.609375 0 \nL 18.3125 0 \nL 43.21875 64.59375 \nL 8.203125 64.59375 \nz\n\" id=\"DejaVuSans-55\"/>\n      </defs>\n      <g transform=\"translate(24.749375 17.837812)scale(0.14 -0.14)\">\n       <use xlink:href=\"#DejaVuSans-48\"/>\n       <use x=\"63.623047\" xlink:href=\"#DejaVuSans-46\"/>\n       <use x=\"95.410156\" xlink:href=\"#DejaVuSans-55\"/>\n       <use x=\"159.033203\" xlink:href=\"#DejaVuSans-53\"/>\n      </g>\n     </g>\n    </g>\n    <g id=\"text_17\">\n     <!-- Probabilities -->\n     <defs>\n      <path d=\"M 19.671875 64.796875 \nL 19.671875 37.40625 \nL 32.078125 37.40625 \nQ 38.96875 37.40625 42.71875 40.96875 \nQ 46.484375 44.53125 46.484375 51.125 \nQ 46.484375 57.671875 42.71875 61.234375 \nQ 38.96875 64.796875 32.078125 64.796875 \nz\nM 9.8125 72.90625 \nL 32.078125 72.90625 \nQ 44.34375 72.90625 50.609375 67.359375 \nQ 56.890625 61.8125 56.890625 51.125 \nQ 56.890625 40.328125 50.609375 34.8125 \nQ 44.34375 29.296875 32.078125 29.296875 \nL 19.671875 29.296875 \nL 19.671875 0 \nL 9.8125 0 \nz\n\" id=\"DejaVuSans-80\"/>\n      <path d=\"M 41.109375 46.296875 \nQ 39.59375 47.171875 37.8125 47.578125 \nQ 36.03125 48 33.890625 48 \nQ 26.265625 48 22.1875 43.046875 \nQ 18.109375 38.09375 18.109375 28.8125 \nL 18.109375 0 \nL 9.078125 0 \nL 9.078125 54.6875 \nL 18.109375 54.6875 \nL 18.109375 46.1875 \nQ 20.953125 51.171875 25.484375 53.578125 \nQ 30.03125 56 36.53125 56 \nQ 37.453125 56 38.578125 55.875 \nQ 39.703125 55.765625 41.0625 55.515625 \nz\n\" id=\"DejaVuSans-114\"/>\n      <path d=\"M 30.609375 48.390625 \nQ 23.390625 48.390625 19.1875 42.75 \nQ 14.984375 37.109375 14.984375 27.296875 \nQ 14.984375 17.484375 19.15625 11.84375 \nQ 23.34375 6.203125 30.609375 6.203125 \nQ 37.796875 6.203125 41.984375 11.859375 \nQ 46.1875 17.53125 46.1875 27.296875 \nQ 46.1875 37.015625 41.984375 42.703125 \nQ 37.796875 48.390625 30.609375 48.390625 \nz\nM 30.609375 56 \nQ 42.328125 56 49.015625 48.375 \nQ 55.71875 40.765625 55.71875 27.296875 \nQ 55.71875 13.875 49.015625 6.21875 \nQ 42.328125 -1.421875 30.609375 -1.421875 \nQ 18.84375 -1.421875 12.171875 6.21875 \nQ 5.515625 13.875 5.515625 27.296875 \nQ 5.515625 40.765625 12.171875 48.375 \nQ 18.84375 56 30.609375 56 \nz\n\" id=\"DejaVuSans-111\"/>\n      <path d=\"M 48.6875 27.296875 \nQ 48.6875 37.203125 44.609375 42.84375 \nQ 40.53125 48.484375 33.40625 48.484375 \nQ 26.265625 48.484375 22.1875 42.84375 \nQ 18.109375 37.203125 18.109375 27.296875 \nQ 18.109375 17.390625 22.1875 11.75 \nQ 26.265625 6.109375 33.40625 6.109375 \nQ 40.53125 6.109375 44.609375 11.75 \nQ 48.6875 17.390625 48.6875 27.296875 \nz\nM 18.109375 46.390625 \nQ 20.953125 51.265625 25.265625 53.625 \nQ 29.59375 56 35.59375 56 \nQ 45.5625 56 51.78125 48.09375 \nQ 58.015625 40.1875 58.015625 27.296875 \nQ 58.015625 14.40625 51.78125 6.484375 \nQ 45.5625 -1.421875 35.59375 -1.421875 \nQ 29.59375 -1.421875 25.265625 0.953125 \nQ 20.953125 3.328125 18.109375 8.203125 \nL 18.109375 0 \nL 9.078125 0 \nL 9.078125 75.984375 \nL 18.109375 75.984375 \nz\n\" id=\"DejaVuSans-98\"/>\n      <path d=\"M 34.28125 27.484375 \nQ 23.390625 27.484375 19.1875 25 \nQ 14.984375 22.515625 14.984375 16.5 \nQ 14.984375 11.71875 18.140625 8.90625 \nQ 21.296875 6.109375 26.703125 6.109375 \nQ 34.1875 6.109375 38.703125 11.40625 \nQ 43.21875 16.703125 43.21875 25.484375 \nL 43.21875 27.484375 \nz\nM 52.203125 31.203125 \nL 52.203125 0 \nL 43.21875 0 \nL 43.21875 8.296875 \nQ 40.140625 3.328125 35.546875 0.953125 \nQ 30.953125 -1.421875 24.3125 -1.421875 \nQ 15.921875 -1.421875 10.953125 3.296875 \nQ 6 8.015625 6 15.921875 \nQ 6 25.140625 12.171875 29.828125 \nQ 18.359375 34.515625 30.609375 34.515625 \nL 43.21875 34.515625 \nL 43.21875 35.40625 \nQ 43.21875 41.609375 39.140625 45 \nQ 35.0625 48.390625 27.6875 48.390625 \nQ 23 48.390625 18.546875 47.265625 \nQ 14.109375 46.140625 10.015625 43.890625 \nL 10.015625 52.203125 \nQ 14.9375 54.109375 19.578125 55.046875 \nQ 24.21875 56 28.609375 56 \nQ 40.484375 56 46.34375 49.84375 \nQ 52.203125 43.703125 52.203125 31.203125 \nz\n\" id=\"DejaVuSans-97\"/>\n      <path d=\"M 9.421875 54.6875 \nL 18.40625 54.6875 \nL 18.40625 0 \nL 9.421875 0 \nz\nM 9.421875 75.984375 \nL 18.40625 75.984375 \nL 18.40625 64.59375 \nL 9.421875 64.59375 \nz\n\" id=\"DejaVuSans-105\"/>\n      <path d=\"M 9.421875 75.984375 \nL 18.40625 75.984375 \nL 18.40625 0 \nL 9.421875 0 \nz\n\" id=\"DejaVuSans-108\"/>\n      <path d=\"M 18.3125 70.21875 \nL 18.3125 54.6875 \nL 36.8125 54.6875 \nL 36.8125 47.703125 \nL 18.3125 47.703125 \nL 18.3125 18.015625 \nQ 18.3125 11.328125 20.140625 9.421875 \nQ 21.96875 7.515625 27.59375 7.515625 \nL 36.8125 7.515625 \nL 36.8125 0 \nL 27.59375 0 \nQ 17.1875 0 13.234375 3.875 \nQ 9.28125 7.765625 9.28125 18.015625 \nL 9.28125 47.703125 \nL 2.6875 47.703125 \nL 2.6875 54.6875 \nL 9.28125 54.6875 \nL 9.28125 70.21875 \nz\n\" id=\"DejaVuSans-116\"/>\n      <path d=\"M 56.203125 29.59375 \nL 56.203125 25.203125 \nL 14.890625 25.203125 \nQ 15.484375 15.921875 20.484375 11.0625 \nQ 25.484375 6.203125 34.421875 6.203125 \nQ 39.59375 6.203125 44.453125 7.46875 \nQ 49.3125 8.734375 54.109375 11.28125 \nL 54.109375 2.78125 \nQ 49.265625 0.734375 44.1875 -0.34375 \nQ 39.109375 -1.421875 33.890625 -1.421875 \nQ 20.796875 -1.421875 13.15625 6.1875 \nQ 5.515625 13.8125 5.515625 26.8125 \nQ 5.515625 40.234375 12.765625 48.109375 \nQ 20.015625 56 32.328125 56 \nQ 43.359375 56 49.78125 48.890625 \nQ 56.203125 41.796875 56.203125 29.59375 \nz\nM 47.21875 32.234375 \nQ 47.125 39.59375 43.09375 43.984375 \nQ 39.0625 48.390625 32.421875 48.390625 \nQ 24.90625 48.390625 20.390625 44.140625 \nQ 15.875 39.890625 15.1875 32.171875 \nz\n\" id=\"DejaVuSans-101\"/>\n      <path d=\"M 44.28125 53.078125 \nL 44.28125 44.578125 \nQ 40.484375 46.53125 36.375 47.5 \nQ 32.28125 48.484375 27.875 48.484375 \nQ 21.1875 48.484375 17.84375 46.4375 \nQ 14.5 44.390625 14.5 40.28125 \nQ 14.5 37.15625 16.890625 35.375 \nQ 19.28125 33.59375 26.515625 31.984375 \nL 29.59375 31.296875 \nQ 39.15625 29.25 43.1875 25.515625 \nQ 47.21875 21.78125 47.21875 15.09375 \nQ 47.21875 7.46875 41.1875 3.015625 \nQ 35.15625 -1.421875 24.609375 -1.421875 \nQ 20.21875 -1.421875 15.453125 -0.5625 \nQ 10.6875 0.296875 5.421875 2 \nL 5.421875 11.28125 \nQ 10.40625 8.6875 15.234375 7.390625 \nQ 20.0625 6.109375 24.8125 6.109375 \nQ 31.15625 6.109375 34.5625 8.28125 \nQ 37.984375 10.453125 37.984375 14.40625 \nQ 37.984375 18.0625 35.515625 20.015625 \nQ 33.0625 21.96875 24.703125 23.78125 \nL 21.578125 24.515625 \nQ 13.234375 26.265625 9.515625 29.90625 \nQ 5.8125 33.546875 5.8125 39.890625 \nQ 5.8125 47.609375 11.28125 51.796875 \nQ 16.75 56 26.8125 56 \nQ 31.78125 56 36.171875 55.265625 \nQ 40.578125 54.546875 44.28125 53.078125 \nz\n\" id=\"DejaVuSans-115\"/>\n     </defs>\n     <g transform=\"translate(17.837813 191.451406)rotate(-90)scale(0.14 -0.14)\">\n      <use xlink:href=\"#DejaVuSans-80\"/>\n      <use x=\"60.287109\" xlink:href=\"#DejaVuSans-114\"/>\n      <use x=\"101.369141\" xlink:href=\"#DejaVuSans-111\"/>\n      <use x=\"162.550781\" xlink:href=\"#DejaVuSans-98\"/>\n      <use x=\"226.027344\" xlink:href=\"#DejaVuSans-97\"/>\n      <use x=\"287.306641\" xlink:href=\"#DejaVuSans-98\"/>\n      <use x=\"350.783203\" xlink:href=\"#DejaVuSans-105\"/>\n      <use x=\"378.566406\" xlink:href=\"#DejaVuSans-108\"/>\n      <use x=\"406.349609\" xlink:href=\"#DejaVuSans-105\"/>\n      <use x=\"434.132812\" xlink:href=\"#DejaVuSans-116\"/>\n      <use x=\"473.341797\" xlink:href=\"#DejaVuSans-105\"/>\n      <use x=\"501.125\" xlink:href=\"#DejaVuSans-101\"/>\n      <use x=\"562.648438\" xlink:href=\"#DejaVuSans-115\"/>\n     </g>\n    </g>\n   </g>\n   <g id=\"patch_3\">\n    <path clip-path=\"url(#pee571851a0)\" d=\"M 108.575795 284.318906 \nL 156.633212 284.318906 \nL 156.633212 283.965 \nL 108.575795 283.965 \nz\n\" style=\"fill:#648fff;\"/>\n   </g>\n   <g id=\"patch_4\">\n    <path clip-path=\"url(#pee571851a0)\" d=\"M 204.690628 284.318906 \nL 252.748044 284.318906 \nL 252.748044 275.47125 \nL 204.690628 275.47125 \nz\n\" style=\"fill:#648fff;\"/>\n   </g>\n   <g id=\"patch_5\">\n    <path clip-path=\"url(#pee571851a0)\" d=\"M 300.805461 284.318906 \nL 348.862877 284.318906 \nL 348.862877 185.225156 \nL 300.805461 185.225156 \nz\n\" style=\"fill:#648fff;\"/>\n   </g>\n   <g id=\"patch_6\">\n    <path clip-path=\"url(#pee571851a0)\" d=\"M 396.920293 284.318906 \nL 444.977709 284.318906 \nL 444.977709 282.195469 \nL 396.920293 282.195469 \nz\n\" style=\"fill:#648fff;\"/>\n   </g>\n   <g id=\"patch_7\">\n    <path clip-path=\"url(#pee571851a0)\" d=\"M 493.035126 284.318906 \nL 541.092542 284.318906 \nL 541.092542 281.841562 \nL 493.035126 281.841562 \nz\n\" style=\"fill:#648fff;\"/>\n   </g>\n   <g id=\"patch_8\">\n    <path clip-path=\"url(#pee571851a0)\" d=\"M 589.149958 284.318906 \nL 637.207374 284.318906 \nL 637.207374 270.870469 \nL 589.149958 270.870469 \nz\n\" style=\"fill:#648fff;\"/>\n   </g>\n   <g id=\"patch_9\">\n    <path clip-path=\"url(#pee571851a0)\" d=\"M 685.264791 284.318906 \nL 733.322207 284.318906 \nL 733.322207 57.818906 \nL 685.264791 57.818906 \nz\n\" style=\"fill:#648fff;\"/>\n   </g>\n   <g id=\"patch_10\">\n    <path clip-path=\"url(#pee571851a0)\" d=\"M 781.379623 284.318906 \nL 829.437039 284.318906 \nL 829.437039 275.47125 \nL 781.379623 275.47125 \nz\n\" style=\"fill:#648fff;\"/>\n   </g>\n   <g id=\"patch_11\">\n    <path clip-path=\"url(#pee571851a0)\" d=\"M 877.494456 284.318906 \nL 925.551872 284.318906 \nL 925.551872 283.965 \nL 877.494456 283.965 \nz\n\" style=\"fill:#648fff;\"/>\n   </g>\n   <g id=\"patch_12\">\n    <path clip-path=\"url(#pee571851a0)\" d=\"M 973.609288 284.318906 \nL 1021.666705 284.318906 \nL 1021.666705 283.965 \nL 973.609288 283.965 \nz\n\" style=\"fill:#648fff;\"/>\n   </g>\n   <g id=\"patch_13\">\n    <path d=\"M 62.92125 284.318906 \nL 62.92125 12.518906 \n\" style=\"fill:none;stroke:#000000;stroke-linecap:square;stroke-linejoin:miter;stroke-width:0.8;\"/>\n   </g>\n   <g id=\"patch_14\">\n    <path d=\"M 1067.32125 284.318906 \nL 1067.32125 12.518906 \n\" style=\"fill:none;stroke:#000000;stroke-linecap:square;stroke-linejoin:miter;stroke-width:0.8;\"/>\n   </g>\n   <g id=\"patch_15\">\n    <path d=\"M 62.92125 284.318906 \nL 1067.32125 284.318906 \n\" style=\"fill:none;stroke:#000000;stroke-linecap:square;stroke-linejoin:miter;stroke-width:0.8;\"/>\n   </g>\n   <g id=\"patch_16\">\n    <path d=\"M 62.92125 12.518906 \nL 1067.32125 12.518906 \n\" style=\"fill:none;stroke:#000000;stroke-linecap:square;stroke-linejoin:miter;stroke-width:0.8;\"/>\n   </g>\n   <g id=\"text_18\">\n    <!-- 0 -->\n    <g transform=\"translate(129.423254 281.867617)scale(0.1 -0.1)\">\n     <use xlink:href=\"#DejaVuSans-48\"/>\n    </g>\n   </g>\n   <g id=\"text_19\">\n    <!-- 0.024 -->\n    <defs>\n     <path d=\"M 19.1875 8.296875 \nL 53.609375 8.296875 \nL 53.609375 0 \nL 7.328125 0 \nL 7.328125 8.296875 \nQ 12.9375 14.109375 22.625 23.890625 \nQ 32.328125 33.6875 34.8125 36.53125 \nQ 39.546875 41.84375 41.421875 45.53125 \nQ 43.3125 49.21875 43.3125 52.78125 \nQ 43.3125 58.59375 39.234375 62.25 \nQ 35.15625 65.921875 28.609375 65.921875 \nQ 23.96875 65.921875 18.8125 64.3125 \nQ 13.671875 62.703125 7.8125 59.421875 \nL 7.8125 69.390625 \nQ 13.765625 71.78125 18.9375 73 \nQ 24.125 74.21875 28.421875 74.21875 \nQ 39.75 74.21875 46.484375 68.546875 \nQ 53.21875 62.890625 53.21875 53.421875 \nQ 53.21875 48.921875 51.53125 44.890625 \nQ 49.859375 40.875 45.40625 35.40625 \nQ 44.1875 33.984375 37.640625 27.21875 \nQ 31.109375 20.453125 19.1875 8.296875 \nz\n\" id=\"DejaVuSans-50\"/>\n    </defs>\n    <g transform=\"translate(214.405274 272.94918)scale(0.1 -0.1)\">\n     <use xlink:href=\"#DejaVuSans-48\"/>\n     <use x=\"63.623047\" xlink:href=\"#DejaVuSans-46\"/>\n     <use x=\"95.410156\" xlink:href=\"#DejaVuSans-48\"/>\n     <use x=\"159.033203\" xlink:href=\"#DejaVuSans-50\"/>\n     <use x=\"222.65625\" xlink:href=\"#DejaVuSans-52\"/>\n    </g>\n   </g>\n   <g id=\"text_20\">\n    <!-- 0.273 -->\n    <g transform=\"translate(310.520106 178.190781)scale(0.1 -0.1)\">\n     <use xlink:href=\"#DejaVuSans-48\"/>\n     <use x=\"63.623047\" xlink:href=\"#DejaVuSans-46\"/>\n     <use x=\"95.410156\" xlink:href=\"#DejaVuSans-50\"/>\n     <use x=\"159.033203\" xlink:href=\"#DejaVuSans-55\"/>\n     <use x=\"222.65625\" xlink:href=\"#DejaVuSans-51\"/>\n    </g>\n   </g>\n   <g id=\"text_21\">\n    <!-- 0.006 -->\n    <g transform=\"translate(406.634939 280.009609)scale(0.1 -0.1)\">\n     <use xlink:href=\"#DejaVuSans-48\"/>\n     <use x=\"63.623047\" xlink:href=\"#DejaVuSans-46\"/>\n     <use x=\"95.410156\" xlink:href=\"#DejaVuSans-48\"/>\n     <use x=\"159.033203\" xlink:href=\"#DejaVuSans-48\"/>\n     <use x=\"222.65625\" xlink:href=\"#DejaVuSans-54\"/>\n    </g>\n   </g>\n   <g id=\"text_22\">\n    <!-- 0.007 -->\n    <g transform=\"translate(502.749771 279.638008)scale(0.1 -0.1)\">\n     <use xlink:href=\"#DejaVuSans-48\"/>\n     <use x=\"63.623047\" xlink:href=\"#DejaVuSans-46\"/>\n     <use x=\"95.410156\" xlink:href=\"#DejaVuSans-48\"/>\n     <use x=\"159.033203\" xlink:href=\"#DejaVuSans-48\"/>\n     <use x=\"222.65625\" xlink:href=\"#DejaVuSans-55\"/>\n    </g>\n   </g>\n   <g id=\"text_23\">\n    <!-- 0.037 -->\n    <g transform=\"translate(598.864604 268.118359)scale(0.1 -0.1)\">\n     <use xlink:href=\"#DejaVuSans-48\"/>\n     <use x=\"63.623047\" xlink:href=\"#DejaVuSans-46\"/>\n     <use x=\"95.410156\" xlink:href=\"#DejaVuSans-48\"/>\n     <use x=\"159.033203\" xlink:href=\"#DejaVuSans-51\"/>\n     <use x=\"222.65625\" xlink:href=\"#DejaVuSans-55\"/>\n    </g>\n   </g>\n   <g id=\"text_24\">\n    <!-- 0.625 -->\n    <g transform=\"translate(694.979436 44.414219)scale(0.1 -0.1)\">\n     <use xlink:href=\"#DejaVuSans-48\"/>\n     <use x=\"63.623047\" xlink:href=\"#DejaVuSans-46\"/>\n     <use x=\"95.410156\" xlink:href=\"#DejaVuSans-54\"/>\n     <use x=\"159.033203\" xlink:href=\"#DejaVuSans-50\"/>\n     <use x=\"222.65625\" xlink:href=\"#DejaVuSans-53\"/>\n    </g>\n   </g>\n   <g id=\"text_25\">\n    <!-- 0.024 -->\n    <g transform=\"translate(791.094269 272.94918)scale(0.1 -0.1)\">\n     <use xlink:href=\"#DejaVuSans-48\"/>\n     <use x=\"63.623047\" xlink:href=\"#DejaVuSans-46\"/>\n     <use x=\"95.410156\" xlink:href=\"#DejaVuSans-48\"/>\n     <use x=\"159.033203\" xlink:href=\"#DejaVuSans-50\"/>\n     <use x=\"222.65625\" xlink:href=\"#DejaVuSans-52\"/>\n    </g>\n   </g>\n   <g id=\"text_26\">\n    <!-- 0 -->\n    <g transform=\"translate(898.341914 281.867617)scale(0.1 -0.1)\">\n     <use xlink:href=\"#DejaVuSans-48\"/>\n    </g>\n   </g>\n   <g id=\"text_27\">\n    <!-- 0 -->\n    <g transform=\"translate(994.456746 281.867617)scale(0.1 -0.1)\">\n     <use xlink:href=\"#DejaVuSans-48\"/>\n    </g>\n   </g>\n  </g>\n </g>\n <defs>\n  <clipPath id=\"pee571851a0\">\n   <rect height=\"271.8\" width=\"1004.4\" x=\"62.92125\" y=\"12.518906\"/>\n  </clipPath>\n </defs>\n</svg>\n",
      "text/plain": "<Figure size 1296x360 with 1 Axes>"
     },
     "execution_count": 26,
     "metadata": {},
     "output_type": "execute_result"
    }
   ],
   "source": [
    "# Plot the results for a single calculation\n",
    "plot_histogram(results['eigvecs'], figsize = (18,5))\n",
    "\n",
    "# # Plot the results for multiple calculations\n",
    "# chart = {}\n",
    "# for n in highest:\n",
    "#     if not n in chart:\n",
    "#         chart[n] = 0\n",
    "#     chart[n] += 1\n",
    "# plot_histogram(chart, figsize = (18,5),title=\"Most likely result after \"+str(iterations)+\" calculations\")\n",
    "# # pp.pprint(result_collection)"
   ]
  },
  {
   "cell_type": "code",
   "execution_count": null,
   "metadata": {},
   "outputs": [],
   "source": []
  }
 ],
 "metadata": {
  "kernelspec": {
   "display_name": "Python 3 (Qiskitenv)",
   "language": "python",
   "name": "qiskitenv"
  },
  "language_info": {
   "codemirror_mode": {
    "name": "ipython",
    "version": 3
   },
   "file_extension": ".py",
   "mimetype": "text/x-python",
   "name": "python",
   "nbconvert_exporter": "python",
   "pygments_lexer": "ipython3",
   "version": "3.8.1-final"
  }
 },
 "nbformat": 4,
 "nbformat_minor": 2
}